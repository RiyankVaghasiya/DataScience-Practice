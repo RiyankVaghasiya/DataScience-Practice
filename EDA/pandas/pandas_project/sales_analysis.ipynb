{
 "cells": [
  {
   "cell_type": "markdown",
   "id": "bc82df78-c427-4184-8304-a40fb2902b95",
   "metadata": {},
   "source": [
    "# Sales Analysis"
   ]
  },
  {
   "cell_type": "code",
   "execution_count": 1,
   "id": "3e5e5d86-4a83-45ad-95d8-e7df54b879a0",
   "metadata": {},
   "outputs": [],
   "source": [
    "import pandas as pd\n",
    "import os"
   ]
  },
  {
   "cell_type": "markdown",
   "id": "d3f4209c-24f8-4927-b5fd-f712dd219475",
   "metadata": {},
   "source": [
    "#__task1:merging 12 months of data in single file__"
   ]
  },
  {
   "cell_type": "code",
   "execution_count": 2,
   "id": "d0039f2f-67a4-451e-9dd1-96e644421af4",
   "metadata": {},
   "outputs": [],
   "source": [
    "df = pd.read_csv(\"Pandas-Data-Science-Tasks-master/SalesAnalysis/Sales_Data/Sales_April_2019.csv\")"
   ]
  },
  {
   "cell_type": "code",
   "execution_count": 3,
   "id": "240ce746-459c-4ca0-a129-51e1ab05a1c4",
   "metadata": {},
   "outputs": [
    {
     "data": {
      "text/html": [
       "<div>\n",
       "<style scoped>\n",
       "    .dataframe tbody tr th:only-of-type {\n",
       "        vertical-align: middle;\n",
       "    }\n",
       "\n",
       "    .dataframe tbody tr th {\n",
       "        vertical-align: top;\n",
       "    }\n",
       "\n",
       "    .dataframe thead th {\n",
       "        text-align: right;\n",
       "    }\n",
       "</style>\n",
       "<table border=\"1\" class=\"dataframe\">\n",
       "  <thead>\n",
       "    <tr style=\"text-align: right;\">\n",
       "      <th></th>\n",
       "      <th>Order ID</th>\n",
       "      <th>Product</th>\n",
       "      <th>Quantity Ordered</th>\n",
       "      <th>Price Each</th>\n",
       "      <th>Order Date</th>\n",
       "      <th>Purchase Address</th>\n",
       "    </tr>\n",
       "  </thead>\n",
       "  <tbody>\n",
       "    <tr>\n",
       "      <th>0</th>\n",
       "      <td>176558</td>\n",
       "      <td>USB-C Charging Cable</td>\n",
       "      <td>2</td>\n",
       "      <td>11.95</td>\n",
       "      <td>04/19/19 08:46</td>\n",
       "      <td>917 1st St, Dallas, TX 75001</td>\n",
       "    </tr>\n",
       "    <tr>\n",
       "      <th>1</th>\n",
       "      <td>NaN</td>\n",
       "      <td>NaN</td>\n",
       "      <td>NaN</td>\n",
       "      <td>NaN</td>\n",
       "      <td>NaN</td>\n",
       "      <td>NaN</td>\n",
       "    </tr>\n",
       "    <tr>\n",
       "      <th>2</th>\n",
       "      <td>176559</td>\n",
       "      <td>Bose SoundSport Headphones</td>\n",
       "      <td>1</td>\n",
       "      <td>99.99</td>\n",
       "      <td>04/07/19 22:30</td>\n",
       "      <td>682 Chestnut St, Boston, MA 02215</td>\n",
       "    </tr>\n",
       "    <tr>\n",
       "      <th>3</th>\n",
       "      <td>176560</td>\n",
       "      <td>Google Phone</td>\n",
       "      <td>1</td>\n",
       "      <td>600</td>\n",
       "      <td>04/12/19 14:38</td>\n",
       "      <td>669 Spruce St, Los Angeles, CA 90001</td>\n",
       "    </tr>\n",
       "    <tr>\n",
       "      <th>4</th>\n",
       "      <td>176560</td>\n",
       "      <td>Wired Headphones</td>\n",
       "      <td>1</td>\n",
       "      <td>11.99</td>\n",
       "      <td>04/12/19 14:38</td>\n",
       "      <td>669 Spruce St, Los Angeles, CA 90001</td>\n",
       "    </tr>\n",
       "  </tbody>\n",
       "</table>\n",
       "</div>"
      ],
      "text/plain": [
       "  Order ID                     Product Quantity Ordered Price Each  \\\n",
       "0   176558        USB-C Charging Cable                2      11.95   \n",
       "1      NaN                         NaN              NaN        NaN   \n",
       "2   176559  Bose SoundSport Headphones                1      99.99   \n",
       "3   176560                Google Phone                1        600   \n",
       "4   176560            Wired Headphones                1      11.99   \n",
       "\n",
       "       Order Date                      Purchase Address  \n",
       "0  04/19/19 08:46          917 1st St, Dallas, TX 75001  \n",
       "1             NaN                                   NaN  \n",
       "2  04/07/19 22:30     682 Chestnut St, Boston, MA 02215  \n",
       "3  04/12/19 14:38  669 Spruce St, Los Angeles, CA 90001  \n",
       "4  04/12/19 14:38  669 Spruce St, Los Angeles, CA 90001  "
      ]
     },
     "execution_count": 3,
     "metadata": {},
     "output_type": "execute_result"
    }
   ],
   "source": [
    "df.head()"
   ]
  },
  {
   "cell_type": "code",
   "execution_count": 4,
   "id": "4b24e453-2309-4ad3-9678-cd1593499286",
   "metadata": {},
   "outputs": [],
   "source": [
    "directory = \"C:/Users/Riyank/pandas/pandas_project/Pandas-Data-Science-Tasks-master/SalesAnalysis/Sales_Data\"\n",
    "csv_files = [file for file in os.listdir(directory)]\n",
    "\n",
    "\n",
    "dataframes = [pd.read_csv(os.path.join(directory, f)) for f in csv_files]\n",
    "combined_df = pd.concat(dataframes, ignore_index=True)"
   ]
  },
  {
   "cell_type": "code",
   "execution_count": 5,
   "id": "fc046881-8e36-47a6-b013-0c9a0d3a9ee4",
   "metadata": {},
   "outputs": [],
   "source": [
    "combined_df.to_csv(\"all_data.csv\",index = False)"
   ]
  },
  {
   "cell_type": "markdown",
   "id": "623267ed-230f-4e93-932b-6641b723ae9d",
   "metadata": {},
   "source": [
    "#__read updated combined csv data__"
   ]
  },
  {
   "cell_type": "code",
   "execution_count": 6,
   "id": "dd131855-5e54-4915-baf7-da02f336067b",
   "metadata": {},
   "outputs": [],
   "source": [
    "df = pd.read_csv(\"all_data.csv\")"
   ]
  },
  {
   "cell_type": "code",
   "execution_count": 7,
   "id": "9e2ddb31-af96-4f14-a062-d5e05f6be85e",
   "metadata": {},
   "outputs": [
    {
     "data": {
      "text/html": [
       "<div>\n",
       "<style scoped>\n",
       "    .dataframe tbody tr th:only-of-type {\n",
       "        vertical-align: middle;\n",
       "    }\n",
       "\n",
       "    .dataframe tbody tr th {\n",
       "        vertical-align: top;\n",
       "    }\n",
       "\n",
       "    .dataframe thead th {\n",
       "        text-align: right;\n",
       "    }\n",
       "</style>\n",
       "<table border=\"1\" class=\"dataframe\">\n",
       "  <thead>\n",
       "    <tr style=\"text-align: right;\">\n",
       "      <th></th>\n",
       "      <th>Order ID</th>\n",
       "      <th>Product</th>\n",
       "      <th>Quantity Ordered</th>\n",
       "      <th>Price Each</th>\n",
       "      <th>Order Date</th>\n",
       "      <th>Purchase Address</th>\n",
       "    </tr>\n",
       "  </thead>\n",
       "  <tbody>\n",
       "    <tr>\n",
       "      <th>0</th>\n",
       "      <td>176558</td>\n",
       "      <td>USB-C Charging Cable</td>\n",
       "      <td>2</td>\n",
       "      <td>11.95</td>\n",
       "      <td>04/19/19 08:46</td>\n",
       "      <td>917 1st St, Dallas, TX 75001</td>\n",
       "    </tr>\n",
       "    <tr>\n",
       "      <th>1</th>\n",
       "      <td>NaN</td>\n",
       "      <td>NaN</td>\n",
       "      <td>NaN</td>\n",
       "      <td>NaN</td>\n",
       "      <td>NaN</td>\n",
       "      <td>NaN</td>\n",
       "    </tr>\n",
       "    <tr>\n",
       "      <th>2</th>\n",
       "      <td>176559</td>\n",
       "      <td>Bose SoundSport Headphones</td>\n",
       "      <td>1</td>\n",
       "      <td>99.99</td>\n",
       "      <td>04/07/19 22:30</td>\n",
       "      <td>682 Chestnut St, Boston, MA 02215</td>\n",
       "    </tr>\n",
       "    <tr>\n",
       "      <th>3</th>\n",
       "      <td>176560</td>\n",
       "      <td>Google Phone</td>\n",
       "      <td>1</td>\n",
       "      <td>600</td>\n",
       "      <td>04/12/19 14:38</td>\n",
       "      <td>669 Spruce St, Los Angeles, CA 90001</td>\n",
       "    </tr>\n",
       "    <tr>\n",
       "      <th>4</th>\n",
       "      <td>176560</td>\n",
       "      <td>Wired Headphones</td>\n",
       "      <td>1</td>\n",
       "      <td>11.99</td>\n",
       "      <td>04/12/19 14:38</td>\n",
       "      <td>669 Spruce St, Los Angeles, CA 90001</td>\n",
       "    </tr>\n",
       "  </tbody>\n",
       "</table>\n",
       "</div>"
      ],
      "text/plain": [
       "  Order ID                     Product Quantity Ordered Price Each  \\\n",
       "0   176558        USB-C Charging Cable                2      11.95   \n",
       "1      NaN                         NaN              NaN        NaN   \n",
       "2   176559  Bose SoundSport Headphones                1      99.99   \n",
       "3   176560                Google Phone                1        600   \n",
       "4   176560            Wired Headphones                1      11.99   \n",
       "\n",
       "       Order Date                      Purchase Address  \n",
       "0  04/19/19 08:46          917 1st St, Dallas, TX 75001  \n",
       "1             NaN                                   NaN  \n",
       "2  04/07/19 22:30     682 Chestnut St, Boston, MA 02215  \n",
       "3  04/12/19 14:38  669 Spruce St, Los Angeles, CA 90001  \n",
       "4  04/12/19 14:38  669 Spruce St, Los Angeles, CA 90001  "
      ]
     },
     "execution_count": 7,
     "metadata": {},
     "output_type": "execute_result"
    }
   ],
   "source": [
    "df.head()"
   ]
  },
  {
   "cell_type": "markdown",
   "id": "ec2dc5f8-006e-4419-85fc-2631c76113af",
   "metadata": {},
   "source": [
    "#__cleanup the data__"
   ]
  },
  {
   "cell_type": "code",
   "execution_count": 8,
   "id": "fd726616-c260-4660-a434-f9a4ec3c8ba0",
   "metadata": {},
   "outputs": [],
   "source": [
    "df = df.dropna(axis=0, how='any')"
   ]
  },
  {
   "cell_type": "code",
   "execution_count": 9,
   "id": "4f269fd4-b080-48a5-82b3-f46dab13d4b2",
   "metadata": {},
   "outputs": [
    {
     "data": {
      "text/plain": [
       "Order ID  Product  Quantity Ordered  Price Each  Order Date  Purchase Address\n",
       "False     False    False             False       False       False               186305\n",
       "Name: count, dtype: int64"
      ]
     },
     "execution_count": 9,
     "metadata": {},
     "output_type": "execute_result"
    }
   ],
   "source": [
    "df.isnull().value_counts()"
   ]
  },
  {
   "cell_type": "markdown",
   "id": "675d4b75-f692-46ea-9c98-56310d5921ec",
   "metadata": {},
   "source": [
    "#__find 'or' and delete it__"
   ]
  },
  {
   "cell_type": "code",
   "execution_count": 10,
   "id": "d2b5bd3c-3f86-48fc-8f42-3f286ad33f01",
   "metadata": {},
   "outputs": [],
   "source": [
    "df = df[df['Order Date'].str[0:2] != 'Or']"
   ]
  },
  {
   "cell_type": "markdown",
   "id": "1f37c557-69ff-4878-874e-45b2bc8b5e42",
   "metadata": {},
   "source": [
    "#__add month column__"
   ]
  },
  {
   "cell_type": "code",
   "execution_count": 11,
   "id": "af3e6501-d19d-47e8-b0e5-d469eca4b4ba",
   "metadata": {},
   "outputs": [],
   "source": [
    "df['Month'] = df['Order Date'].str[0:2]"
   ]
  },
  {
   "cell_type": "code",
   "execution_count": 12,
   "id": "4a36096d-3873-447b-92c8-be73e8e5ddf3",
   "metadata": {},
   "outputs": [],
   "source": [
    "df['Month'] = df['Month'].astype('int32')"
   ]
  },
  {
   "cell_type": "markdown",
   "id": "7e0ac2f3-ef73-47c3-965a-07badf1b3ec1",
   "metadata": {},
   "source": [
    "__Q.1 What was the best month for sales? How much money was earned that month?__"
   ]
  },
  {
   "cell_type": "markdown",
   "id": "24ec8b9c-754d-4002-9a44-ae7cd018dac0",
   "metadata": {},
   "source": [
    "#__add sales column__"
   ]
  },
  {
   "cell_type": "code",
   "execution_count": 13,
   "id": "24114fd9-4872-43ba-b810-2245a198a12b",
   "metadata": {},
   "outputs": [],
   "source": [
    "df['Quantity Ordered'] = df['Quantity Ordered'].astype('int32')\n",
    "df['Price Each'] = df['Price Each'].astype('float')"
   ]
  },
  {
   "cell_type": "code",
   "execution_count": 14,
   "id": "b55d1b23-d322-4dd4-be4d-42956b8c6848",
   "metadata": {},
   "outputs": [],
   "source": [
    "df['Sales'] = df['Quantity Ordered'] * df['Price Each']"
   ]
  },
  {
   "cell_type": "code",
   "execution_count": 15,
   "id": "ec6fb274-bf45-496c-a8b1-bcd7792e2b94",
   "metadata": {},
   "outputs": [
    {
     "data": {
      "text/html": [
       "<div>\n",
       "<style scoped>\n",
       "    .dataframe tbody tr th:only-of-type {\n",
       "        vertical-align: middle;\n",
       "    }\n",
       "\n",
       "    .dataframe tbody tr th {\n",
       "        vertical-align: top;\n",
       "    }\n",
       "\n",
       "    .dataframe thead th {\n",
       "        text-align: right;\n",
       "    }\n",
       "</style>\n",
       "<table border=\"1\" class=\"dataframe\">\n",
       "  <thead>\n",
       "    <tr style=\"text-align: right;\">\n",
       "      <th></th>\n",
       "      <th>Order ID</th>\n",
       "      <th>Product</th>\n",
       "      <th>Quantity Ordered</th>\n",
       "      <th>Price Each</th>\n",
       "      <th>Order Date</th>\n",
       "      <th>Purchase Address</th>\n",
       "      <th>Month</th>\n",
       "      <th>Sales</th>\n",
       "    </tr>\n",
       "  </thead>\n",
       "  <tbody>\n",
       "    <tr>\n",
       "      <th>0</th>\n",
       "      <td>176558</td>\n",
       "      <td>USB-C Charging Cable</td>\n",
       "      <td>2</td>\n",
       "      <td>11.95</td>\n",
       "      <td>04/19/19 08:46</td>\n",
       "      <td>917 1st St, Dallas, TX 75001</td>\n",
       "      <td>4</td>\n",
       "      <td>23.90</td>\n",
       "    </tr>\n",
       "    <tr>\n",
       "      <th>2</th>\n",
       "      <td>176559</td>\n",
       "      <td>Bose SoundSport Headphones</td>\n",
       "      <td>1</td>\n",
       "      <td>99.99</td>\n",
       "      <td>04/07/19 22:30</td>\n",
       "      <td>682 Chestnut St, Boston, MA 02215</td>\n",
       "      <td>4</td>\n",
       "      <td>99.99</td>\n",
       "    </tr>\n",
       "    <tr>\n",
       "      <th>3</th>\n",
       "      <td>176560</td>\n",
       "      <td>Google Phone</td>\n",
       "      <td>1</td>\n",
       "      <td>600.00</td>\n",
       "      <td>04/12/19 14:38</td>\n",
       "      <td>669 Spruce St, Los Angeles, CA 90001</td>\n",
       "      <td>4</td>\n",
       "      <td>600.00</td>\n",
       "    </tr>\n",
       "    <tr>\n",
       "      <th>4</th>\n",
       "      <td>176560</td>\n",
       "      <td>Wired Headphones</td>\n",
       "      <td>1</td>\n",
       "      <td>11.99</td>\n",
       "      <td>04/12/19 14:38</td>\n",
       "      <td>669 Spruce St, Los Angeles, CA 90001</td>\n",
       "      <td>4</td>\n",
       "      <td>11.99</td>\n",
       "    </tr>\n",
       "    <tr>\n",
       "      <th>5</th>\n",
       "      <td>176561</td>\n",
       "      <td>Wired Headphones</td>\n",
       "      <td>1</td>\n",
       "      <td>11.99</td>\n",
       "      <td>04/30/19 09:27</td>\n",
       "      <td>333 8th St, Los Angeles, CA 90001</td>\n",
       "      <td>4</td>\n",
       "      <td>11.99</td>\n",
       "    </tr>\n",
       "  </tbody>\n",
       "</table>\n",
       "</div>"
      ],
      "text/plain": [
       "  Order ID                     Product  Quantity Ordered  Price Each  \\\n",
       "0   176558        USB-C Charging Cable                 2       11.95   \n",
       "2   176559  Bose SoundSport Headphones                 1       99.99   \n",
       "3   176560                Google Phone                 1      600.00   \n",
       "4   176560            Wired Headphones                 1       11.99   \n",
       "5   176561            Wired Headphones                 1       11.99   \n",
       "\n",
       "       Order Date                      Purchase Address  Month   Sales  \n",
       "0  04/19/19 08:46          917 1st St, Dallas, TX 75001      4   23.90  \n",
       "2  04/07/19 22:30     682 Chestnut St, Boston, MA 02215      4   99.99  \n",
       "3  04/12/19 14:38  669 Spruce St, Los Angeles, CA 90001      4  600.00  \n",
       "4  04/12/19 14:38  669 Spruce St, Los Angeles, CA 90001      4   11.99  \n",
       "5  04/30/19 09:27     333 8th St, Los Angeles, CA 90001      4   11.99  "
      ]
     },
     "execution_count": 15,
     "metadata": {},
     "output_type": "execute_result"
    }
   ],
   "source": [
    "df.head()"
   ]
  },
  {
   "cell_type": "code",
   "execution_count": 16,
   "id": "f021a6f8-9230-4ef8-b1a8-06e9740ef390",
   "metadata": {},
   "outputs": [],
   "source": [
    "result = df.groupby('Month').sum()"
   ]
  },
  {
   "cell_type": "code",
   "execution_count": 17,
   "id": "102cfe71-5192-411e-b758-7755c323509c",
   "metadata": {},
   "outputs": [
    {
     "data": {
      "text/html": [
       "<div>\n",
       "<style scoped>\n",
       "    .dataframe tbody tr th:only-of-type {\n",
       "        vertical-align: middle;\n",
       "    }\n",
       "\n",
       "    .dataframe tbody tr th {\n",
       "        vertical-align: top;\n",
       "    }\n",
       "\n",
       "    .dataframe thead th {\n",
       "        text-align: right;\n",
       "    }\n",
       "</style>\n",
       "<table border=\"1\" class=\"dataframe\">\n",
       "  <thead>\n",
       "    <tr style=\"text-align: right;\">\n",
       "      <th></th>\n",
       "      <th>Order ID</th>\n",
       "      <th>Product</th>\n",
       "      <th>Quantity Ordered</th>\n",
       "      <th>Price Each</th>\n",
       "      <th>Order Date</th>\n",
       "      <th>Purchase Address</th>\n",
       "      <th>Sales</th>\n",
       "    </tr>\n",
       "    <tr>\n",
       "      <th>Month</th>\n",
       "      <th></th>\n",
       "      <th></th>\n",
       "      <th></th>\n",
       "      <th></th>\n",
       "      <th></th>\n",
       "      <th></th>\n",
       "      <th></th>\n",
       "    </tr>\n",
       "  </thead>\n",
       "  <tbody>\n",
       "    <tr>\n",
       "      <th>11</th>\n",
       "      <td>2787972787982787992788002788012788022788032788...</td>\n",
       "      <td>Wired HeadphonesUSB-C Charging CableApple Airp...</td>\n",
       "      <td>19798</td>\n",
       "      <td>3180600.68</td>\n",
       "      <td>11/21/19 09:5411/17/19 10:0311/19/19 14:5611/2...</td>\n",
       "      <td>46 Park St, New York City, NY 10001962 Hickory...</td>\n",
       "      <td>3199603.20</td>\n",
       "    </tr>\n",
       "    <tr>\n",
       "      <th>12</th>\n",
       "      <td>2956652956662956672956682956692956702956712956...</td>\n",
       "      <td>Macbook Pro LaptopLG Washing MachineUSB-C Char...</td>\n",
       "      <td>28114</td>\n",
       "      <td>4588415.41</td>\n",
       "      <td>12/30/19 00:0112/29/19 07:0312/12/19 18:2112/2...</td>\n",
       "      <td>136 Church St, New York City, NY 10001562 2nd ...</td>\n",
       "      <td>4613443.34</td>\n",
       "    </tr>\n",
       "  </tbody>\n",
       "</table>\n",
       "</div>"
      ],
      "text/plain": [
       "                                                Order ID  \\\n",
       "Month                                                      \n",
       "11     2787972787982787992788002788012788022788032788...   \n",
       "12     2956652956662956672956682956692956702956712956...   \n",
       "\n",
       "                                                 Product  Quantity Ordered  \\\n",
       "Month                                                                        \n",
       "11     Wired HeadphonesUSB-C Charging CableApple Airp...             19798   \n",
       "12     Macbook Pro LaptopLG Washing MachineUSB-C Char...             28114   \n",
       "\n",
       "       Price Each                                         Order Date  \\\n",
       "Month                                                                  \n",
       "11     3180600.68  11/21/19 09:5411/17/19 10:0311/19/19 14:5611/2...   \n",
       "12     4588415.41  12/30/19 00:0112/29/19 07:0312/12/19 18:2112/2...   \n",
       "\n",
       "                                        Purchase Address       Sales  \n",
       "Month                                                                 \n",
       "11     46 Park St, New York City, NY 10001962 Hickory...  3199603.20  \n",
       "12     136 Church St, New York City, NY 10001562 2nd ...  4613443.34  "
      ]
     },
     "execution_count": 17,
     "metadata": {},
     "output_type": "execute_result"
    }
   ],
   "source": [
    "result.tail(2)"
   ]
  },
  {
   "cell_type": "code",
   "execution_count": 18,
   "id": "2a3b37fa-c51c-4726-aa12-c4d52e385599",
   "metadata": {},
   "outputs": [
    {
     "data": {
      "text/plain": [
       "4613443.34"
      ]
     },
     "execution_count": 18,
     "metadata": {},
     "output_type": "execute_result"
    }
   ],
   "source": [
    "result['Sales'].max()"
   ]
  },
  {
   "cell_type": "code",
   "execution_count": 19,
   "id": "b01408f3-b38c-4a6e-bca6-39c2ac684159",
   "metadata": {},
   "outputs": [],
   "source": [
    "max_sales_month = result['Sales'].idxmax()\n",
    "max_sales_data = df[df['Month'] == max_sales_month]"
   ]
  },
  {
   "cell_type": "code",
   "execution_count": 20,
   "id": "83eeab43-91c9-472b-8adb-f43265272a24",
   "metadata": {},
   "outputs": [
    {
     "data": {
      "text/plain": [
       "12"
      ]
     },
     "execution_count": 20,
     "metadata": {},
     "output_type": "execute_result"
    }
   ],
   "source": [
    "max_sales_month"
   ]
  },
  {
   "cell_type": "code",
   "execution_count": 21,
   "id": "3e426810-5beb-4156-b66f-d853094c2798",
   "metadata": {},
   "outputs": [
    {
     "data": {
      "text/html": [
       "<div>\n",
       "<style scoped>\n",
       "    .dataframe tbody tr th:only-of-type {\n",
       "        vertical-align: middle;\n",
       "    }\n",
       "\n",
       "    .dataframe tbody tr th {\n",
       "        vertical-align: top;\n",
       "    }\n",
       "\n",
       "    .dataframe thead th {\n",
       "        text-align: right;\n",
       "    }\n",
       "</style>\n",
       "<table border=\"1\" class=\"dataframe\">\n",
       "  <thead>\n",
       "    <tr style=\"text-align: right;\">\n",
       "      <th></th>\n",
       "      <th>Order ID</th>\n",
       "      <th>Product</th>\n",
       "      <th>Quantity Ordered</th>\n",
       "      <th>Price Each</th>\n",
       "      <th>Order Date</th>\n",
       "      <th>Purchase Address</th>\n",
       "      <th>Month</th>\n",
       "      <th>Sales</th>\n",
       "    </tr>\n",
       "  </thead>\n",
       "  <tbody>\n",
       "    <tr>\n",
       "      <th>30394</th>\n",
       "      <td>295665</td>\n",
       "      <td>Macbook Pro Laptop</td>\n",
       "      <td>1</td>\n",
       "      <td>1700.00</td>\n",
       "      <td>12/30/19 00:01</td>\n",
       "      <td>136 Church St, New York City, NY 10001</td>\n",
       "      <td>12</td>\n",
       "      <td>1700.00</td>\n",
       "    </tr>\n",
       "    <tr>\n",
       "      <th>30395</th>\n",
       "      <td>295666</td>\n",
       "      <td>LG Washing Machine</td>\n",
       "      <td>1</td>\n",
       "      <td>600.00</td>\n",
       "      <td>12/29/19 07:03</td>\n",
       "      <td>562 2nd St, New York City, NY 10001</td>\n",
       "      <td>12</td>\n",
       "      <td>600.00</td>\n",
       "    </tr>\n",
       "    <tr>\n",
       "      <th>30396</th>\n",
       "      <td>295667</td>\n",
       "      <td>USB-C Charging Cable</td>\n",
       "      <td>1</td>\n",
       "      <td>11.95</td>\n",
       "      <td>12/12/19 18:21</td>\n",
       "      <td>277 Main St, New York City, NY 10001</td>\n",
       "      <td>12</td>\n",
       "      <td>11.95</td>\n",
       "    </tr>\n",
       "    <tr>\n",
       "      <th>30397</th>\n",
       "      <td>295668</td>\n",
       "      <td>27in FHD Monitor</td>\n",
       "      <td>1</td>\n",
       "      <td>149.99</td>\n",
       "      <td>12/22/19 15:13</td>\n",
       "      <td>410 6th St, San Francisco, CA 94016</td>\n",
       "      <td>12</td>\n",
       "      <td>149.99</td>\n",
       "    </tr>\n",
       "    <tr>\n",
       "      <th>30398</th>\n",
       "      <td>295669</td>\n",
       "      <td>USB-C Charging Cable</td>\n",
       "      <td>1</td>\n",
       "      <td>11.95</td>\n",
       "      <td>12/18/19 12:38</td>\n",
       "      <td>43 Hill St, Atlanta, GA 30301</td>\n",
       "      <td>12</td>\n",
       "      <td>11.95</td>\n",
       "    </tr>\n",
       "    <tr>\n",
       "      <th>...</th>\n",
       "      <td>...</td>\n",
       "      <td>...</td>\n",
       "      <td>...</td>\n",
       "      <td>...</td>\n",
       "      <td>...</td>\n",
       "      <td>...</td>\n",
       "      <td>...</td>\n",
       "      <td>...</td>\n",
       "    </tr>\n",
       "    <tr>\n",
       "      <th>153029</th>\n",
       "      <td>293993</td>\n",
       "      <td>AAA Batteries (4-pack)</td>\n",
       "      <td>1</td>\n",
       "      <td>2.99</td>\n",
       "      <td>12/01/19 00:41</td>\n",
       "      <td>999 10th St, San Francisco, CA 94016</td>\n",
       "      <td>12</td>\n",
       "      <td>2.99</td>\n",
       "    </tr>\n",
       "    <tr>\n",
       "      <th>153134</th>\n",
       "      <td>294093</td>\n",
       "      <td>USB-C Charging Cable</td>\n",
       "      <td>1</td>\n",
       "      <td>11.95</td>\n",
       "      <td>12/01/19 00:37</td>\n",
       "      <td>51 Cherry St, New York City, NY 10001</td>\n",
       "      <td>12</td>\n",
       "      <td>11.95</td>\n",
       "    </tr>\n",
       "    <tr>\n",
       "      <th>153499</th>\n",
       "      <td>294441</td>\n",
       "      <td>Wired Headphones</td>\n",
       "      <td>1</td>\n",
       "      <td>11.99</td>\n",
       "      <td>12/01/19 00:52</td>\n",
       "      <td>469 Sunset St, San Francisco, CA 94016</td>\n",
       "      <td>12</td>\n",
       "      <td>11.99</td>\n",
       "    </tr>\n",
       "    <tr>\n",
       "      <th>153696</th>\n",
       "      <td>294629</td>\n",
       "      <td>Wired Headphones</td>\n",
       "      <td>1</td>\n",
       "      <td>11.99</td>\n",
       "      <td>12/01/19 01:54</td>\n",
       "      <td>668 Ridge St, San Francisco, CA 94016</td>\n",
       "      <td>12</td>\n",
       "      <td>11.99</td>\n",
       "    </tr>\n",
       "    <tr>\n",
       "      <th>154756</th>\n",
       "      <td>295636</td>\n",
       "      <td>AA Batteries (4-pack)</td>\n",
       "      <td>2</td>\n",
       "      <td>3.84</td>\n",
       "      <td>12/01/19 00:20</td>\n",
       "      <td>204 Walnut St, Dallas, TX 75001</td>\n",
       "      <td>12</td>\n",
       "      <td>7.68</td>\n",
       "    </tr>\n",
       "  </tbody>\n",
       "</table>\n",
       "<p>24984 rows × 8 columns</p>\n",
       "</div>"
      ],
      "text/plain": [
       "       Order ID                 Product  Quantity Ordered  Price Each  \\\n",
       "30394    295665      Macbook Pro Laptop                 1     1700.00   \n",
       "30395    295666      LG Washing Machine                 1      600.00   \n",
       "30396    295667    USB-C Charging Cable                 1       11.95   \n",
       "30397    295668        27in FHD Monitor                 1      149.99   \n",
       "30398    295669    USB-C Charging Cable                 1       11.95   \n",
       "...         ...                     ...               ...         ...   \n",
       "153029   293993  AAA Batteries (4-pack)                 1        2.99   \n",
       "153134   294093    USB-C Charging Cable                 1       11.95   \n",
       "153499   294441        Wired Headphones                 1       11.99   \n",
       "153696   294629        Wired Headphones                 1       11.99   \n",
       "154756   295636   AA Batteries (4-pack)                 2        3.84   \n",
       "\n",
       "            Order Date                        Purchase Address  Month    Sales  \n",
       "30394   12/30/19 00:01  136 Church St, New York City, NY 10001     12  1700.00  \n",
       "30395   12/29/19 07:03     562 2nd St, New York City, NY 10001     12   600.00  \n",
       "30396   12/12/19 18:21    277 Main St, New York City, NY 10001     12    11.95  \n",
       "30397   12/22/19 15:13     410 6th St, San Francisco, CA 94016     12   149.99  \n",
       "30398   12/18/19 12:38           43 Hill St, Atlanta, GA 30301     12    11.95  \n",
       "...                ...                                     ...    ...      ...  \n",
       "153029  12/01/19 00:41    999 10th St, San Francisco, CA 94016     12     2.99  \n",
       "153134  12/01/19 00:37   51 Cherry St, New York City, NY 10001     12    11.95  \n",
       "153499  12/01/19 00:52  469 Sunset St, San Francisco, CA 94016     12    11.99  \n",
       "153696  12/01/19 01:54   668 Ridge St, San Francisco, CA 94016     12    11.99  \n",
       "154756  12/01/19 00:20         204 Walnut St, Dallas, TX 75001     12     7.68  \n",
       "\n",
       "[24984 rows x 8 columns]"
      ]
     },
     "execution_count": 21,
     "metadata": {},
     "output_type": "execute_result"
    }
   ],
   "source": [
    "max_sales_data"
   ]
  },
  {
   "cell_type": "markdown",
   "id": "d6f74ff3-7a98-4121-bb22-633ef77cfdaa",
   "metadata": {},
   "source": [
    "__Q.2 what city had the highest number of sales__"
   ]
  },
  {
   "cell_type": "markdown",
   "id": "4a7ad9de-39fc-49e5-be10-f2763c908634",
   "metadata": {},
   "source": [
    "#__Add city column__"
   ]
  },
  {
   "cell_type": "code",
   "execution_count": 22,
   "id": "fac9f912-6079-4b84-a705-d77540e35c7a",
   "metadata": {},
   "outputs": [],
   "source": [
    "#this is how we can split address and make list of it using split function\n",
    "def split(address):\n",
    "    result = address.split(',')\n",
    "    return result[1]\n",
    "def get_state(address):\n",
    "    return address.split(',')[2].split(' ')[1]\n",
    "# split(\"136 Church St, New York City, NY 10001\")\n",
    "\n",
    "df['City'] = df['Purchase Address'].apply(lambda x:split(x)+\" \"+get_state(x))"
   ]
  },
  {
   "cell_type": "code",
   "execution_count": 23,
   "id": "c507f648-ae1b-4316-91c0-adb363958a9f",
   "metadata": {},
   "outputs": [
    {
     "data": {
      "text/html": [
       "<div>\n",
       "<style scoped>\n",
       "    .dataframe tbody tr th:only-of-type {\n",
       "        vertical-align: middle;\n",
       "    }\n",
       "\n",
       "    .dataframe tbody tr th {\n",
       "        vertical-align: top;\n",
       "    }\n",
       "\n",
       "    .dataframe thead th {\n",
       "        text-align: right;\n",
       "    }\n",
       "</style>\n",
       "<table border=\"1\" class=\"dataframe\">\n",
       "  <thead>\n",
       "    <tr style=\"text-align: right;\">\n",
       "      <th></th>\n",
       "      <th>Order ID</th>\n",
       "      <th>Product</th>\n",
       "      <th>Quantity Ordered</th>\n",
       "      <th>Price Each</th>\n",
       "      <th>Order Date</th>\n",
       "      <th>Purchase Address</th>\n",
       "      <th>Month</th>\n",
       "      <th>Sales</th>\n",
       "      <th>City</th>\n",
       "    </tr>\n",
       "  </thead>\n",
       "  <tbody>\n",
       "    <tr>\n",
       "      <th>0</th>\n",
       "      <td>176558</td>\n",
       "      <td>USB-C Charging Cable</td>\n",
       "      <td>2</td>\n",
       "      <td>11.95</td>\n",
       "      <td>04/19/19 08:46</td>\n",
       "      <td>917 1st St, Dallas, TX 75001</td>\n",
       "      <td>4</td>\n",
       "      <td>23.90</td>\n",
       "      <td>Dallas TX</td>\n",
       "    </tr>\n",
       "    <tr>\n",
       "      <th>2</th>\n",
       "      <td>176559</td>\n",
       "      <td>Bose SoundSport Headphones</td>\n",
       "      <td>1</td>\n",
       "      <td>99.99</td>\n",
       "      <td>04/07/19 22:30</td>\n",
       "      <td>682 Chestnut St, Boston, MA 02215</td>\n",
       "      <td>4</td>\n",
       "      <td>99.99</td>\n",
       "      <td>Boston MA</td>\n",
       "    </tr>\n",
       "  </tbody>\n",
       "</table>\n",
       "</div>"
      ],
      "text/plain": [
       "  Order ID                     Product  Quantity Ordered  Price Each  \\\n",
       "0   176558        USB-C Charging Cable                 2       11.95   \n",
       "2   176559  Bose SoundSport Headphones                 1       99.99   \n",
       "\n",
       "       Order Date                   Purchase Address  Month  Sales        City  \n",
       "0  04/19/19 08:46       917 1st St, Dallas, TX 75001      4  23.90   Dallas TX  \n",
       "2  04/07/19 22:30  682 Chestnut St, Boston, MA 02215      4  99.99   Boston MA  "
      ]
     },
     "execution_count": 23,
     "metadata": {},
     "output_type": "execute_result"
    }
   ],
   "source": [
    "df.head(2)"
   ]
  },
  {
   "cell_type": "code",
   "execution_count": 24,
   "id": "3dee77fd-2cdc-4b2b-bb6c-01edaba4f7e5",
   "metadata": {},
   "outputs": [],
   "source": [
    "result_city = df.groupby('City').sum()"
   ]
  },
  {
   "cell_type": "code",
   "execution_count": 25,
   "id": "af726bae-14b5-4cd2-aa4a-aa93ffcf1466",
   "metadata": {},
   "outputs": [
    {
     "data": {
      "text/html": [
       "<div>\n",
       "<style scoped>\n",
       "    .dataframe tbody tr th:only-of-type {\n",
       "        vertical-align: middle;\n",
       "    }\n",
       "\n",
       "    .dataframe tbody tr th {\n",
       "        vertical-align: top;\n",
       "    }\n",
       "\n",
       "    .dataframe thead th {\n",
       "        text-align: right;\n",
       "    }\n",
       "</style>\n",
       "<table border=\"1\" class=\"dataframe\">\n",
       "  <thead>\n",
       "    <tr style=\"text-align: right;\">\n",
       "      <th></th>\n",
       "      <th>Order ID</th>\n",
       "      <th>Product</th>\n",
       "      <th>Quantity Ordered</th>\n",
       "      <th>Price Each</th>\n",
       "      <th>Order Date</th>\n",
       "      <th>Purchase Address</th>\n",
       "      <th>Month</th>\n",
       "      <th>Sales</th>\n",
       "    </tr>\n",
       "    <tr>\n",
       "      <th>City</th>\n",
       "      <th></th>\n",
       "      <th></th>\n",
       "      <th></th>\n",
       "      <th></th>\n",
       "      <th></th>\n",
       "      <th></th>\n",
       "      <th></th>\n",
       "      <th></th>\n",
       "    </tr>\n",
       "  </thead>\n",
       "  <tbody>\n",
       "    <tr>\n",
       "      <th>New York City NY</th>\n",
       "      <td>1765721765751765791765901765991766131766371766...</td>\n",
       "      <td>Apple Airpods HeadphonesAAA Batteries (4-pack)...</td>\n",
       "      <td>27932</td>\n",
       "      <td>4635370.83</td>\n",
       "      <td>04/04/19 20:3004/27/19 00:3004/11/19 10:2304/1...</td>\n",
       "      <td>149 Dogwood St, New York City, NY 10001433 Hil...</td>\n",
       "      <td>175741</td>\n",
       "      <td>4664317.43</td>\n",
       "    </tr>\n",
       "    <tr>\n",
       "      <th>Portland ME</th>\n",
       "      <td>1767731768791769091770721772301772331772991773...</td>\n",
       "      <td>AAA Batteries (4-pack)Flatscreen TVWired Headp...</td>\n",
       "      <td>2750</td>\n",
       "      <td>447189.25</td>\n",
       "      <td>04/25/19 20:0704/13/19 14:1504/22/19 09:5304/0...</td>\n",
       "      <td>30 9th St, Portland, ME 04101370 Sunset St, Po...</td>\n",
       "      <td>17144</td>\n",
       "      <td>449758.27</td>\n",
       "    </tr>\n",
       "    <tr>\n",
       "      <th>Portland OR</th>\n",
       "      <td>1765831765931766171766421766461766481766621767...</td>\n",
       "      <td>AAA Batteries (4-pack)Lightning Charging Cable...</td>\n",
       "      <td>11303</td>\n",
       "      <td>1860558.22</td>\n",
       "      <td>04/20/19 12:0004/15/19 13:4504/25/19 08:0304/1...</td>\n",
       "      <td>146 Jackson St, Portland, OR 97035906 7th St, ...</td>\n",
       "      <td>70621</td>\n",
       "      <td>1870732.34</td>\n",
       "    </tr>\n",
       "    <tr>\n",
       "      <th>San Francisco CA</th>\n",
       "      <td>1765621765651765731765841765861765861765941765...</td>\n",
       "      <td>USB-C Charging CableMacbook Pro LaptopUSB-C Ch...</td>\n",
       "      <td>50239</td>\n",
       "      <td>8211461.74</td>\n",
       "      <td>04/29/19 13:0304/24/19 10:3804/27/19 18:4104/2...</td>\n",
       "      <td>381 Wilson St, San Francisco, CA 94016915 Will...</td>\n",
       "      <td>315520</td>\n",
       "      <td>8262203.91</td>\n",
       "    </tr>\n",
       "    <tr>\n",
       "      <th>Seattle WA</th>\n",
       "      <td>1765631765681765881766121766241766541766631766...</td>\n",
       "      <td>Bose SoundSport HeadphonesLightning Charging C...</td>\n",
       "      <td>16553</td>\n",
       "      <td>2733296.01</td>\n",
       "      <td>04/02/19 07:4604/15/19 12:1804/02/19 04:0004/0...</td>\n",
       "      <td>668 Center St, Seattle, WA 98101438 Elm St, Se...</td>\n",
       "      <td>104941</td>\n",
       "      <td>2747755.48</td>\n",
       "    </tr>\n",
       "  </tbody>\n",
       "</table>\n",
       "</div>"
      ],
      "text/plain": [
       "                                                            Order ID  \\\n",
       "City                                                                   \n",
       " New York City NY  1765721765751765791765901765991766131766371766...   \n",
       " Portland ME       1767731768791769091770721772301772331772991773...   \n",
       " Portland OR       1765831765931766171766421766461766481766621767...   \n",
       " San Francisco CA  1765621765651765731765841765861765861765941765...   \n",
       " Seattle WA        1765631765681765881766121766241766541766631766...   \n",
       "\n",
       "                                                             Product  \\\n",
       "City                                                                   \n",
       " New York City NY  Apple Airpods HeadphonesAAA Batteries (4-pack)...   \n",
       " Portland ME       AAA Batteries (4-pack)Flatscreen TVWired Headp...   \n",
       " Portland OR       AAA Batteries (4-pack)Lightning Charging Cable...   \n",
       " San Francisco CA  USB-C Charging CableMacbook Pro LaptopUSB-C Ch...   \n",
       " Seattle WA        Bose SoundSport HeadphonesLightning Charging C...   \n",
       "\n",
       "                   Quantity Ordered  Price Each  \\\n",
       "City                                              \n",
       " New York City NY             27932  4635370.83   \n",
       " Portland ME                   2750   447189.25   \n",
       " Portland OR                  11303  1860558.22   \n",
       " San Francisco CA             50239  8211461.74   \n",
       " Seattle WA                   16553  2733296.01   \n",
       "\n",
       "                                                          Order Date  \\\n",
       "City                                                                   \n",
       " New York City NY  04/04/19 20:3004/27/19 00:3004/11/19 10:2304/1...   \n",
       " Portland ME       04/25/19 20:0704/13/19 14:1504/22/19 09:5304/0...   \n",
       " Portland OR       04/20/19 12:0004/15/19 13:4504/25/19 08:0304/1...   \n",
       " San Francisco CA  04/29/19 13:0304/24/19 10:3804/27/19 18:4104/2...   \n",
       " Seattle WA        04/02/19 07:4604/15/19 12:1804/02/19 04:0004/0...   \n",
       "\n",
       "                                                    Purchase Address   Month  \\\n",
       "City                                                                           \n",
       " New York City NY  149 Dogwood St, New York City, NY 10001433 Hil...  175741   \n",
       " Portland ME       30 9th St, Portland, ME 04101370 Sunset St, Po...   17144   \n",
       " Portland OR       146 Jackson St, Portland, OR 97035906 7th St, ...   70621   \n",
       " San Francisco CA  381 Wilson St, San Francisco, CA 94016915 Will...  315520   \n",
       " Seattle WA        668 Center St, Seattle, WA 98101438 Elm St, Se...  104941   \n",
       "\n",
       "                        Sales  \n",
       "City                           \n",
       " New York City NY  4664317.43  \n",
       " Portland ME        449758.27  \n",
       " Portland OR       1870732.34  \n",
       " San Francisco CA  8262203.91  \n",
       " Seattle WA        2747755.48  "
      ]
     },
     "execution_count": 25,
     "metadata": {},
     "output_type": "execute_result"
    }
   ],
   "source": [
    "result_city.tail()"
   ]
  },
  {
   "cell_type": "code",
   "execution_count": 26,
   "id": "aaf69bd1-1a38-4255-8ad0-4977d6f77bc7",
   "metadata": {},
   "outputs": [],
   "source": [
    "max_sales_city = result_city['Sales'].idxmax()\n",
    "max_sales_data = df[df['City'] == max_sales_city]"
   ]
  },
  {
   "cell_type": "code",
   "execution_count": 27,
   "id": "f474192d-42a5-47c3-b9ef-833406229985",
   "metadata": {},
   "outputs": [
    {
     "data": {
      "text/plain": [
       "' San Francisco CA'"
      ]
     },
     "execution_count": 27,
     "metadata": {},
     "output_type": "execute_result"
    }
   ],
   "source": [
    "max_sales_city"
   ]
  },
  {
   "cell_type": "markdown",
   "id": "653c15f8-9d2f-4cf7-a41d-fcca377c02d6",
   "metadata": {},
   "source": [
    "__Q.3 what time should we display ads to maximize likelihood of customer's buying products__"
   ]
  },
  {
   "cell_type": "code",
   "execution_count": null,
   "id": "e3edcb87-1aec-4385-92a0-7f930f2cc023",
   "metadata": {},
   "outputs": [
    {
     "name": "stderr",
     "output_type": "stream",
     "text": [
      "C:\\Users\\Riyank\\AppData\\Local\\Temp\\ipykernel_2132\\3072535395.py:1: UserWarning: Could not infer format, so each element will be parsed individually, falling back to `dateutil`. To ensure parsing is consistent and as-expected, please specify a format.\n",
      "  df['Order Date'] = pd.to_datetime(df['Order Date'])\n"
     ]
    }
   ],
   "source": [
    "df['Order Date'] = pd.to_datetime(df['Order Date'])"
   ]
  },
  {
   "cell_type": "code",
   "execution_count": null,
   "id": "86e41b4e-ae15-411e-983a-199407db5b18",
   "metadata": {},
   "outputs": [],
   "source": [
    "df['Hour'] = df['Order Date'].dt.hour\n",
    "df['Minute'] = df['Order Date'].dt.minute"
   ]
  },
  {
   "cell_type": "code",
   "execution_count": null,
   "id": "558fada4-c990-437a-8e02-ea92060f1d96",
   "metadata": {},
   "outputs": [],
   "source": [
    "# df.groupby('Hour').size().head()"
   ]
  },
  {
   "cell_type": "markdown",
   "id": "022928b0-b12f-49c3-9862-183b9d8e353f",
   "metadata": {},
   "source": [
    "__Q.4 what products are most often sold together__"
   ]
  },
  {
   "cell_type": "code",
   "execution_count": null,
   "id": "8740d763-5fe4-44da-b037-396fff0ffadf",
   "metadata": {},
   "outputs": [],
   "source": [
    "df.head()"
   ]
  },
  {
   "cell_type": "code",
   "execution_count": null,
   "id": "5f63bfc9-79f3-4d8b-9423-8d5b4ea67bea",
   "metadata": {},
   "outputs": [],
   "source": []
  },
  {
   "cell_type": "code",
   "execution_count": null,
   "id": "044b65c4-5422-45e8-88e2-05e4281fde39",
   "metadata": {},
   "outputs": [],
   "source": [
    "df.to_csv('C:/Users/Riyank/pandas/pandas_project/all_data.csv', index=False)"
   ]
  },
  {
   "cell_type": "code",
   "execution_count": null,
   "id": "9b702a58-2cf6-4823-97a7-04db56150ef4",
   "metadata": {},
   "outputs": [],
   "source": []
  }
 ],
 "metadata": {
  "kernelspec": {
   "display_name": "Python 3 (ipykernel)",
   "language": "python",
   "name": "python3"
  },
  "language_info": {
   "codemirror_mode": {
    "name": "ipython",
    "version": 3
   },
   "file_extension": ".py",
   "mimetype": "text/x-python",
   "name": "python",
   "nbconvert_exporter": "python",
   "pygments_lexer": "ipython3",
   "version": "3.11.7"
  }
 },
 "nbformat": 4,
 "nbformat_minor": 5
}
