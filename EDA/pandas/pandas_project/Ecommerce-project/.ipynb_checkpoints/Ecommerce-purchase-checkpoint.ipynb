{
 "cells": [
  {
   "cell_type": "code",
   "execution_count": 3,
   "id": "86dba876-7159-44a7-a5d7-197ef908ebe1",
   "metadata": {},
   "outputs": [],
   "source": [
    "import pandas as pd\n",
    "import matplotlib.pyplot as plt"
   ]
  },
  {
   "cell_type": "code",
   "execution_count": 31,
   "id": "4d354fcc-feed-4299-b1ab-5c307f6d050e",
   "metadata": {},
   "outputs": [],
   "source": [
    "data = pd.read_csv('Ecommerce-Purchases.csv')"
   ]
  },
  {
   "cell_type": "code",
   "execution_count": 32,
   "id": "be928c53-3d85-4346-b8f8-2e7de99ad4a2",
   "metadata": {},
   "outputs": [
    {
     "data": {
      "text/plain": [
       "Address              object\n",
       "Lot                  object\n",
       "AM or PM             object\n",
       "Browser Info         object\n",
       "Company              object\n",
       "Credit Card           int64\n",
       "CC Exp Date          object\n",
       "CC Security Code      int64\n",
       "CC Provider          object\n",
       "Email                object\n",
       "Job                  object\n",
       "IP Address           object\n",
       "Language             object\n",
       "Purchase Price      float64\n",
       "dtype: object"
      ]
     },
     "execution_count": 32,
     "metadata": {},
     "output_type": "execute_result"
    }
   ],
   "source": [
    "data.dtypes"
   ]
  },
  {
   "cell_type": "code",
   "execution_count": 33,
   "id": "654138de-a20b-45b5-a7b3-5ebc42e5d42c",
   "metadata": {},
   "outputs": [
    {
     "data": {
      "text/plain": [
       "Address             0\n",
       "Lot                 0\n",
       "AM or PM            0\n",
       "Browser Info        0\n",
       "Company             0\n",
       "Credit Card         0\n",
       "CC Exp Date         0\n",
       "CC Security Code    0\n",
       "CC Provider         0\n",
       "Email               0\n",
       "Job                 0\n",
       "IP Address          0\n",
       "Language            0\n",
       "Purchase Price      0\n",
       "dtype: int64"
      ]
     },
     "execution_count": 33,
     "metadata": {},
     "output_type": "execute_result"
    }
   ],
   "source": [
    "data.isnull().sum()"
   ]
  },
  {
   "cell_type": "code",
   "execution_count": 18,
   "id": "fab42145-fd5b-4057-b2ea-61fe6527cbdf",
   "metadata": {},
   "outputs": [
    {
     "data": {
      "text/plain": [
       "(10000, 14)"
      ]
     },
     "execution_count": 18,
     "metadata": {},
     "output_type": "execute_result"
    }
   ],
   "source": [
    "data.shape"
   ]
  },
  {
   "cell_type": "code",
   "execution_count": 20,
   "id": "e683ee92-c54f-409e-8009-6330e45fea60",
   "metadata": {},
   "outputs": [
    {
     "data": {
      "text/plain": [
       "0.0"
      ]
     },
     "execution_count": 20,
     "metadata": {},
     "output_type": "execute_result"
    }
   ],
   "source": [
    "data['Purchase Price'].min()"
   ]
  },
  {
   "cell_type": "code",
   "execution_count": 21,
   "id": "030f2eca-7ae1-489f-bb89-9087f57345a3",
   "metadata": {},
   "outputs": [
    {
     "data": {
      "text/plain": [
       "99.99"
      ]
     },
     "execution_count": 21,
     "metadata": {},
     "output_type": "execute_result"
    }
   ],
   "source": [
    "data['Purchase Price'].max()"
   ]
  },
  {
   "cell_type": "code",
   "execution_count": 22,
   "id": "b3dd7988-ada1-4e30-b8de-332448704eb0",
   "metadata": {},
   "outputs": [
    {
     "data": {
      "text/plain": [
       "50.347302"
      ]
     },
     "execution_count": 22,
     "metadata": {},
     "output_type": "execute_result"
    }
   ],
   "source": [
    "data['Purchase Price'].mean()"
   ]
  },
  {
   "cell_type": "code",
   "execution_count": 39,
   "id": "0150976d-224a-45fd-96d8-a0ea61e1e727",
   "metadata": {},
   "outputs": [
    {
     "data": {
      "text/plain": [
       "Address             1097\n",
       "Lot                 1097\n",
       "AM or PM            1097\n",
       "Browser Info        1097\n",
       "Company             1097\n",
       "Credit Card         1097\n",
       "CC Exp Date         1097\n",
       "CC Security Code    1097\n",
       "CC Provider         1097\n",
       "Email               1097\n",
       "Job                 1097\n",
       "IP Address          1097\n",
       "Language            1097\n",
       "Purchase Price      1097\n",
       "dtype: int64"
      ]
     },
     "execution_count": 39,
     "metadata": {},
     "output_type": "execute_result"
    }
   ],
   "source": [
    "data[data['Language'] == 'fr'].count()"
   ]
  },
  {
   "cell_type": "code",
   "execution_count": 49,
   "id": "01aa8e39-b6c4-4bfc-b4fb-a43bd8dc42c3",
   "metadata": {},
   "outputs": [
    {
     "data": {
      "text/plain": [
       "Address             984\n",
       "Lot                 984\n",
       "AM or PM            984\n",
       "Browser Info        984\n",
       "Company             984\n",
       "Credit Card         984\n",
       "CC Exp Date         984\n",
       "CC Security Code    984\n",
       "CC Provider         984\n",
       "Email               984\n",
       "Job                 984\n",
       "IP Address          984\n",
       "Language            984\n",
       "Purchase Price      984\n",
       "dtype: int64"
      ]
     },
     "execution_count": 49,
     "metadata": {},
     "output_type": "execute_result"
    }
   ],
   "source": [
    "data[data['Job'].str.contains('engineer',case=False)].count()"
   ]
  },
  {
   "cell_type": "code",
   "execution_count": 59,
   "id": "73ea1e18-0bef-457a-bd92-3ba714504815",
   "metadata": {},
   "outputs": [
    {
     "data": {
      "text/plain": [
       "2    amymiller@morales-harrison.com\n",
       "Name: Email, dtype: object"
      ]
     },
     "execution_count": 59,
     "metadata": {},
     "output_type": "execute_result"
    }
   ],
   "source": [
    "data[data['IP Address'] == \"132.207.160.22\"]['Email']"
   ]
  },
  {
   "cell_type": "code",
   "execution_count": 80,
   "id": "7d9f22dc-310c-4ea1-82f7-2eb4d84e0fe2",
   "metadata": {},
   "outputs": [
    {
     "data": {
      "text/plain": [
       "Address             405\n",
       "Lot                 405\n",
       "AM or PM            405\n",
       "Browser Info        405\n",
       "Company             405\n",
       "Credit Card         405\n",
       "CC Exp Date         405\n",
       "CC Security Code    405\n",
       "CC Provider         405\n",
       "Email               405\n",
       "Job                 405\n",
       "IP Address          405\n",
       "Language            405\n",
       "Purchase Price      405\n",
       "dtype: int64"
      ]
     },
     "execution_count": 80,
     "metadata": {},
     "output_type": "execute_result"
    }
   ],
   "source": [
    "mask = (data['CC Provider'] == 'Mastercard') & (data['Purchase Price'] > 50.00)\n",
    "data[mask].count()"
   ]
  },
  {
   "cell_type": "code",
   "execution_count": 85,
   "id": "20b2b8f1-b97a-45d5-9c0c-3eca4c7a5daf",
   "metadata": {},
   "outputs": [
    {
     "data": {
      "text/plain": [
       "9992    bberry@wright.net\n",
       "Name: Email, dtype: object"
      ]
     },
     "execution_count": 85,
     "metadata": {},
     "output_type": "execute_result"
    }
   ],
   "source": [
    "mask2 = data['Credit Card'] == 4664825258997302\n",
    "data[mask2]['Email']"
   ]
  },
  {
   "cell_type": "code",
   "execution_count": 94,
   "id": "3ec287c7-52f0-4cd7-a2f0-f7893816a8f3",
   "metadata": {},
   "outputs": [
    {
     "data": {
      "text/plain": [
       "AM or PM\n",
       "PM    5068\n",
       "AM    4932\n",
       "Name: count, dtype: int64"
      ]
     },
     "execution_count": 94,
     "metadata": {},
     "output_type": "execute_result"
    }
   ],
   "source": [
    "data['AM or PM'].value_counts()"
   ]
  },
  {
   "cell_type": "code",
   "execution_count": 110,
   "id": "b1b387c1-e496-45ad-99a5-3db3ad0bccfb",
   "metadata": {},
   "outputs": [],
   "source": [
    "data['expiry'] = data['CC Exp Date'].str[3:]"
   ]
  },
  {
   "cell_type": "code",
   "execution_count": 137,
   "id": "554eacef-8edf-4c53-a6dd-8d3d19903387",
   "metadata": {},
   "outputs": [
    {
     "data": {
      "text/plain": [
       "expiry\n",
       "25    1033\n",
       "23    1010\n",
       "21    1006\n",
       "22     996\n",
       "18     995\n",
       "19     995\n",
       "24     992\n",
       "20     988\n",
       "17     955\n",
       "26     654\n",
       "16     376\n",
       "Name: count, dtype: int64"
      ]
     },
     "execution_count": 137,
     "metadata": {},
     "output_type": "execute_result"
    }
   ],
   "source": [
    "data['expiry'].value_counts()"
   ]
  },
  {
   "cell_type": "code",
   "execution_count": 154,
   "id": "cf6e8957-592e-4a68-96e6-37fd2d6f939d",
   "metadata": {},
   "outputs": [],
   "source": [
    "x = data['Email'].str.split('@')"
   ]
  },
  {
   "cell_type": "code",
   "execution_count": 160,
   "id": "d9b73b41-2473-4e4f-9999-356df496b8ac",
   "metadata": {},
   "outputs": [
    {
     "data": {
      "text/plain": [
       "Email\n",
       "hotmail.com     1638\n",
       "yahoo.com       1616\n",
       "gmail.com       1605\n",
       "smith.com         42\n",
       "williams.com      37\n",
       "Name: count, dtype: int64"
      ]
     },
     "execution_count": 160,
     "metadata": {},
     "output_type": "execute_result"
    }
   ],
   "source": [
    "x.str[1].value_counts().head()"
   ]
  },
  {
   "cell_type": "code",
   "execution_count": null,
   "id": "63c1c269-fb4c-445e-876e-2b2faa41c0b1",
   "metadata": {},
   "outputs": [],
   "source": []
  },
  {
   "cell_type": "code",
   "execution_count": null,
   "id": "42b84e73-ce3f-4d41-88d1-3b740120c8df",
   "metadata": {},
   "outputs": [],
   "source": []
  }
 ],
 "metadata": {
  "kernelspec": {
   "display_name": "Python 3 (ipykernel)",
   "language": "python",
   "name": "python3"
  },
  "language_info": {
   "codemirror_mode": {
    "name": "ipython",
    "version": 3
   },
   "file_extension": ".py",
   "mimetype": "text/x-python",
   "name": "python",
   "nbconvert_exporter": "python",
   "pygments_lexer": "ipython3",
   "version": "3.11.7"
  }
 },
 "nbformat": 4,
 "nbformat_minor": 5
}
