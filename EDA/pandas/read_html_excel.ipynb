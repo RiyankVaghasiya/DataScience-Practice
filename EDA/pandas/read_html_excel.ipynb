{
 "cells": [
  {
   "cell_type": "code",
   "execution_count": 1,
   "id": "21f70b35-d0e3-4057-a8c3-b71f2b1d7d34",
   "metadata": {},
   "outputs": [],
   "source": [
    "import pandas as pd"
   ]
  },
  {
   "cell_type": "code",
   "execution_count": 3,
   "id": "74b22331-86eb-45f7-8b12-fe72cf46ee8b",
   "metadata": {},
   "outputs": [],
   "source": [
    "url = \"https://en.wikipedia.org/wiki/World_population\""
   ]
  },
  {
   "cell_type": "code",
   "execution_count": 5,
   "id": "7c00e71d-44b2-4ec8-a647-cdc6b7cc3e96",
   "metadata": {},
   "outputs": [],
   "source": [
    "tables = pd.read_html(url)"
   ]
  },
  {
   "cell_type": "code",
   "execution_count": 14,
   "id": "7475e070-b092-486c-85ec-7740d541a273",
   "metadata": {},
   "outputs": [],
   "source": [
    "population = tables[4]"
   ]
  },
  {
   "cell_type": "code",
   "execution_count": 15,
   "id": "5c27948b-a3fe-4c25-8fc4-b69b167c17c6",
   "metadata": {},
   "outputs": [
    {
     "data": {
      "text/html": [
       "<div>\n",
       "<style scoped>\n",
       "    .dataframe tbody tr th:only-of-type {\n",
       "        vertical-align: middle;\n",
       "    }\n",
       "\n",
       "    .dataframe tbody tr th {\n",
       "        vertical-align: top;\n",
       "    }\n",
       "\n",
       "    .dataframe thead th {\n",
       "        text-align: right;\n",
       "    }\n",
       "</style>\n",
       "<table border=\"1\" class=\"dataframe\">\n",
       "  <thead>\n",
       "    <tr style=\"text-align: right;\">\n",
       "      <th></th>\n",
       "      <th>Country / Dependency</th>\n",
       "      <th>Population</th>\n",
       "      <th>% of world</th>\n",
       "      <th>Date</th>\n",
       "      <th>Source (official or from the United Nations)</th>\n",
       "    </tr>\n",
       "  </thead>\n",
       "  <tbody>\n",
       "    <tr>\n",
       "      <th>0</th>\n",
       "      <td>India</td>\n",
       "      <td>1425775850</td>\n",
       "      <td>17.6%</td>\n",
       "      <td>14 Apr 2023</td>\n",
       "      <td>UN projection[90]</td>\n",
       "    </tr>\n",
       "    <tr>\n",
       "      <th>1</th>\n",
       "      <td>China</td>\n",
       "      <td>1409670000</td>\n",
       "      <td>17.4%</td>\n",
       "      <td>17 Jan 2024</td>\n",
       "      <td>National annual estimate[91]</td>\n",
       "    </tr>\n",
       "    <tr>\n",
       "      <th>2</th>\n",
       "      <td>United States</td>\n",
       "      <td>336722521</td>\n",
       "      <td>4.15%</td>\n",
       "      <td>26 Jul 2024</td>\n",
       "      <td>National population clock[92]</td>\n",
       "    </tr>\n",
       "    <tr>\n",
       "      <th>3</th>\n",
       "      <td>Indonesia</td>\n",
       "      <td>278696200</td>\n",
       "      <td>3.43%</td>\n",
       "      <td>1 Jul 2023</td>\n",
       "      <td>National annual estimate[93]</td>\n",
       "    </tr>\n",
       "    <tr>\n",
       "      <th>4</th>\n",
       "      <td>Pakistan</td>\n",
       "      <td>229488994</td>\n",
       "      <td>2.83%</td>\n",
       "      <td>1 Jul 2022</td>\n",
       "      <td>UN projection[94]</td>\n",
       "    </tr>\n",
       "    <tr>\n",
       "      <th>5</th>\n",
       "      <td>Nigeria</td>\n",
       "      <td>216746934</td>\n",
       "      <td>2.67%</td>\n",
       "      <td>1 Jul 2022</td>\n",
       "      <td>UN projection[94]</td>\n",
       "    </tr>\n",
       "    <tr>\n",
       "      <th>6</th>\n",
       "      <td>Brazil</td>\n",
       "      <td>217957458</td>\n",
       "      <td>2.68%</td>\n",
       "      <td>26 Jul 2024</td>\n",
       "      <td>National population clock[95]</td>\n",
       "    </tr>\n",
       "    <tr>\n",
       "      <th>7</th>\n",
       "      <td>Bangladesh</td>\n",
       "      <td>168220000</td>\n",
       "      <td>2.07%</td>\n",
       "      <td>1 Jul 2020</td>\n",
       "      <td>Annual Population Estimate[96]</td>\n",
       "    </tr>\n",
       "    <tr>\n",
       "      <th>8</th>\n",
       "      <td>Russia</td>\n",
       "      <td>147190000</td>\n",
       "      <td>1.81%</td>\n",
       "      <td>1 Oct 2021</td>\n",
       "      <td>2021 preliminary census results[97]</td>\n",
       "    </tr>\n",
       "    <tr>\n",
       "      <th>9</th>\n",
       "      <td>Mexico</td>\n",
       "      <td>128271248</td>\n",
       "      <td>1.58%</td>\n",
       "      <td>31 Mar 2022</td>\n",
       "      <td>NaN</td>\n",
       "    </tr>\n",
       "  </tbody>\n",
       "</table>\n",
       "</div>"
      ],
      "text/plain": [
       "  Country / Dependency  Population % of world         Date  \\\n",
       "0                India  1425775850      17.6%  14 Apr 2023   \n",
       "1                China  1409670000      17.4%  17 Jan 2024   \n",
       "2        United States   336722521      4.15%  26 Jul 2024   \n",
       "3            Indonesia   278696200      3.43%   1 Jul 2023   \n",
       "4             Pakistan   229488994      2.83%   1 Jul 2022   \n",
       "5              Nigeria   216746934      2.67%   1 Jul 2022   \n",
       "6               Brazil   217957458      2.68%  26 Jul 2024   \n",
       "7           Bangladesh   168220000      2.07%   1 Jul 2020   \n",
       "8               Russia   147190000      1.81%   1 Oct 2021   \n",
       "9               Mexico   128271248      1.58%  31 Mar 2022   \n",
       "\n",
       "  Source (official or from the United Nations)  \n",
       "0                            UN projection[90]  \n",
       "1                 National annual estimate[91]  \n",
       "2                National population clock[92]  \n",
       "3                 National annual estimate[93]  \n",
       "4                            UN projection[94]  \n",
       "5                            UN projection[94]  \n",
       "6                National population clock[95]  \n",
       "7               Annual Population Estimate[96]  \n",
       "8          2021 preliminary census results[97]  \n",
       "9                                          NaN  "
      ]
     },
     "execution_count": 15,
     "metadata": {},
     "output_type": "execute_result"
    }
   ],
   "source": [
    "population.set"
   ]
  },
  {
   "cell_type": "markdown",
   "id": "17e6fb4b-9b52-42bf-b9f6-3e7433605668",
   "metadata": {},
   "source": [
    "#__reading Excel file__"
   ]
  },
  {
   "cell_type": "raw",
   "id": "12f5c655-c54b-47d0-8ee5-5d8021e12e5c",
   "metadata": {},
   "source": [
    "df = pd.read_excel()"
   ]
  },
  {
   "cell_type": "code",
   "execution_count": null,
   "id": "38097e01-5b80-4c47-8a0a-abf1428cbbcb",
   "metadata": {},
   "outputs": [],
   "source": []
  }
 ],
 "metadata": {
  "kernelspec": {
   "display_name": "Python 3 (ipykernel)",
   "language": "python",
   "name": "python3"
  },
  "language_info": {
   "codemirror_mode": {
    "name": "ipython",
    "version": 3
   },
   "file_extension": ".py",
   "mimetype": "text/x-python",
   "name": "python",
   "nbconvert_exporter": "python",
   "pygments_lexer": "ipython3",
   "version": "3.11.7"
  }
 },
 "nbformat": 4,
 "nbformat_minor": 5
}
