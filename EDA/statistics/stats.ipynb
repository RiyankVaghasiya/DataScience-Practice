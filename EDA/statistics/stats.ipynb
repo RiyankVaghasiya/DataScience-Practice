{
 "cells": [
  {
   "cell_type": "code",
   "execution_count": 1,
   "id": "84ec559c-96d0-48cb-867f-3dfafd150818",
   "metadata": {},
   "outputs": [],
   "source": [
    "import numpy as np\n",
    "import matplotlib.pyplot as plt\n",
    "import seaborn as sns"
   ]
  },
  {
   "cell_type": "code",
   "execution_count": 2,
   "id": "7f53d564-9bda-4e35-a900-cb679bd96d35",
   "metadata": {},
   "outputs": [],
   "source": [
    "dataset = [11,10,12,14,12,15,14,13,15,102,12,14,17,19,107,10,12,13,14,12,108,12,11,14,13,15,10,15,12,10,14,13,15,10]"
   ]
  },
  {
   "cell_type": "code",
   "execution_count": 3,
   "id": "e891a142-071a-4504-a200-3a26701f957c",
   "metadata": {},
   "outputs": [
    {
     "data": {
      "image/png": "[encoded data removed]",
      "text/plain": [
       "<Figure size 640x480 with 1 Axes>"
      ]
     },
     "metadata": {},
     "output_type": "display_data"
    }
   ],
   "source": [
    "plt.hist(dataset)\n",
    "plt.show()"
   ]
  },
  {
   "cell_type": "markdown",
   "id": "c10d6e6c-cb48-4b46-b358-f8045b5a56d5",
   "metadata": {},
   "source": [
    "__finding outliers__"
   ]
  },
  {
   "cell_type": "markdown",
   "id": "8b93ab5e-24ab-49f1-bbbc-46501ff27d9f",
   "metadata": {},
   "source": [
    "1:- sort the data\n",
    "2:- calculate Q1(25%) and Q3(75%)\n",
    "3:- calculate  IQR(Q3 - Q1)\n",
    "4:- find the lower fence(q1 - 1.5(iqr))\n",
    "5:- find the upper fence(q3 + 1.5(iqr))"
   ]
  },
  {
   "cell_type": "code",
   "execution_count": null,
   "id": "f38b8d74-458a-4a8d-8655-dfe3d5ea9a6e",
   "metadata": {},
   "outputs": [],
   "source": []
  },
  {
   "cell_type": "code",
   "execution_count": 4,
   "id": "1bd82d7f-68db-47c5-90ed-f4fe25c82a8b",
   "metadata": {},
   "outputs": [],
   "source": [
    "sorted_dataset = np.sort(dataset)"
   ]
  },
  {
   "cell_type": "code",
   "execution_count": 5,
   "id": "93931a13-39df-43f8-9fb8-f39fbbdf01b0",
   "metadata": {},
   "outputs": [],
   "source": [
    "q1 = np.percentile(sorted_dataset,25)\n",
    "q3 = np.percentile(sorted_dataset,75)"
   ]
  },
  {
   "cell_type": "code",
   "execution_count": 6,
   "id": "ace411f1-3b2a-43f4-b79f-63ddf653b325",
   "metadata": {},
   "outputs": [
    {
     "data": {
      "text/plain": [
       "(12.0, 15.0)"
      ]
     },
     "execution_count": 6,
     "metadata": {},
     "output_type": "execute_result"
    }
   ],
   "source": [
    "q1,q3"
   ]
  },
  {
   "cell_type": "code",
   "execution_count": 7,
   "id": "285ae801-1a6d-41b4-ba4f-37ab16f48dd4",
   "metadata": {},
   "outputs": [],
   "source": [
    "IQR = q3 - q1"
   ]
  },
  {
   "cell_type": "code",
   "execution_count": 8,
   "id": "f38f0e74-bf60-435e-aebb-8fe46673ba36",
   "metadata": {},
   "outputs": [],
   "source": [
    "lower_fence = q1 - (1.5*IQR)\n",
    "upper_fence = q3 + (1.5*IQR)"
   ]
  },
  {
   "cell_type": "code",
   "execution_count": 9,
   "id": "98ced5bd-debd-4170-befc-1d920cc1adbb",
   "metadata": {},
   "outputs": [
    {
     "data": {
      "text/plain": [
       "(7.5, 19.5)"
      ]
     },
     "execution_count": 9,
     "metadata": {},
     "output_type": "execute_result"
    }
   ],
   "source": [
    "(lower_fence,upper_fence)"
   ]
  },
  {
   "cell_type": "code",
   "execution_count": 10,
   "id": "375f4e9e-f4b6-4a77-adef-d3a5fd322f8a",
   "metadata": {},
   "outputs": [],
   "source": [
    "outliers = []\n",
    "for i in sorted_dataset:\n",
    "    if(i < lower_fence or i > upper_fence):\n",
    "        outliers.append(i)"
   ]
  },
  {
   "cell_type": "code",
   "execution_count": 11,
   "id": "e4369a9c-3eb0-4411-b4b2-521f2754c7b3",
   "metadata": {},
   "outputs": [
    {
     "data": {
      "text/plain": [
       "[102, 107, 108]"
      ]
     },
     "execution_count": 11,
     "metadata": {},
     "output_type": "execute_result"
    }
   ],
   "source": [
    "outliers"
   ]
  },
  {
   "cell_type": "code",
   "execution_count": 12,
   "id": "540751ed-4ffd-4be2-a7cd-0b2ac4ce7b46",
   "metadata": {},
   "outputs": [
    {
     "data": {
      "text/plain": [
       "<Axes: >"
      ]
     },
     "execution_count": 12,
     "metadata": {},
     "output_type": "execute_result"
    },
    {
     "data": {
      "image/png": "[encoded data removed]",
      "text/plain": [
       "<Figure size 640x480 with 1 Axes>"
      ]
     },
     "metadata": {},
     "output_type": "display_data"
    }
   ],
   "source": [
    "sns.boxplot(x = dataset)"
   ]
  },
  {
   "cell_type": "code",
   "execution_count": null,
   "id": "cdfa8aca-02d6-40e1-8b91-e1050c2cd248",
   "metadata": {},
   "outputs": [],
   "source": []
  }
 ],
 "metadata": {
  "kernelspec": {
   "display_name": "Python 3 (ipykernel)",
   "language": "python",
   "name": "python3"
  },
  "language_info": {
   "codemirror_mode": {
    "name": "ipython",
    "version": 3
   },
   "file_extension": ".py",
   "mimetype": "text/x-python",
   "name": "python",
   "nbconvert_exporter": "python",
   "pygments_lexer": "ipython3",
   "version": "3.11.7"
  }
 },
 "nbformat": 4,
 "nbformat_minor": 5
}
