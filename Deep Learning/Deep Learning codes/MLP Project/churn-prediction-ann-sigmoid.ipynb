{
 "cells": [
  {
   "cell_type": "code",
   "execution_count": 1,
   "id": "bcb90bdd",
   "metadata": {
    "_cell_guid": "b1076dfc-b9ad-4769-8c92-a6c4dae69d19",
    "_uuid": "8f2839f25d086af736a60e9eeb907d3b93b6e0e5",
    "execution": {
     "iopub.execute_input": "2025-07-07T14:12:44.306863Z",
     "iopub.status.busy": "2025-07-07T14:12:44.306505Z",
     "iopub.status.idle": "2025-07-07T14:12:46.316073Z",
     "shell.execute_reply": "2025-07-07T14:12:46.314783Z"
    },
    "papermill": {
     "duration": 2.019099,
     "end_time": "2025-07-07T14:12:46.318018",
     "exception": false,
     "start_time": "2025-07-07T14:12:44.298919",
     "status": "completed"
    },
    "tags": []
   },
   "outputs": [
    {
     "name": "stdout",
     "output_type": "stream",
     "text": [
      "/kaggle/input/credit-card-customer-churn-prediction/Churn_Modelling.csv\n"
     ]
    }
   ],
   "source": [
    "# This Python 3 environment comes with many helpful analytics libraries installed\n",
    "# It is defined by the kaggle/python Docker image: https://github.com/kaggle/docker-python\n",
    "# For example, here's several helpful packages to load\n",
    "\n",
    "import numpy as np # linear algebra\n",
    "import pandas as pd # data processing, CSV file I/O (e.g. pd.read_csv)\n",
    "\n",
    "# Input data files are available in the read-only \"../input/\" directory\n",
    "# For example, running this (by clicking run or pressing Shift+Enter) will list all files under the input directory\n",
    "\n",
    "import os\n",
    "for dirname, _, filenames in os.walk('/kaggle/input'):\n",
    "    for filename in filenames:\n",
    "        print(os.path.join(dirname, filename))\n",
    "\n",
    "# You can write up to 20GB to the current directory (/kaggle/working/) that gets preserved as output when you create a version using \"Save & Run All\" \n",
    "# You can also write temporary files to /kaggle/temp/, but they won't be saved outside of the current session"
   ]
  },
  {
   "cell_type": "code",
   "execution_count": 2,
   "id": "052cdeca",
   "metadata": {
    "execution": {
     "iopub.execute_input": "2025-07-07T14:12:46.330962Z",
     "iopub.status.busy": "2025-07-07T14:12:46.330434Z",
     "iopub.status.idle": "2025-07-07T14:12:46.387966Z",
     "shell.execute_reply": "2025-07-07T14:12:46.386790Z"
    },
    "papermill": {
     "duration": 0.066235,
     "end_time": "2025-07-07T14:12:46.390207",
     "exception": false,
     "start_time": "2025-07-07T14:12:46.323972",
     "status": "completed"
    },
    "tags": []
   },
   "outputs": [],
   "source": [
    "df = pd.read_csv(\"/kaggle/input/credit-card-customer-churn-prediction/Churn_Modelling.csv\")"
   ]
  },
  {
   "cell_type": "code",
   "execution_count": 3,
   "id": "9e0d87f6",
   "metadata": {
    "execution": {
     "iopub.execute_input": "2025-07-07T14:12:46.403033Z",
     "iopub.status.busy": "2025-07-07T14:12:46.402643Z",
     "iopub.status.idle": "2025-07-07T14:12:46.431528Z",
     "shell.execute_reply": "2025-07-07T14:12:46.430671Z"
    },
    "papermill": {
     "duration": 0.037251,
     "end_time": "2025-07-07T14:12:46.433237",
     "exception": false,
     "start_time": "2025-07-07T14:12:46.395986",
     "status": "completed"
    },
    "tags": []
   },
   "outputs": [
    {
     "data": {
      "text/html": [
       "<div>\n",
       "<style scoped>\n",
       "    .dataframe tbody tr th:only-of-type {\n",
       "        vertical-align: middle;\n",
       "    }\n",
       "\n",
       "    .dataframe tbody tr th {\n",
       "        vertical-align: top;\n",
       "    }\n",
       "\n",
       "    .dataframe thead th {\n",
       "        text-align: right;\n",
       "    }\n",
       "</style>\n",
       "<table border=\"1\" class=\"dataframe\">\n",
       "  <thead>\n",
       "    <tr style=\"text-align: right;\">\n",
       "      <th></th>\n",
       "      <th>RowNumber</th>\n",
       "      <th>CustomerId</th>\n",
       "      <th>Surname</th>\n",
       "      <th>CreditScore</th>\n",
       "      <th>Geography</th>\n",
       "      <th>Gender</th>\n",
       "      <th>Age</th>\n",
       "      <th>Tenure</th>\n",
       "      <th>Balance</th>\n",
       "      <th>NumOfProducts</th>\n",
       "      <th>HasCrCard</th>\n",
       "      <th>IsActiveMember</th>\n",
       "      <th>EstimatedSalary</th>\n",
       "      <th>Exited</th>\n",
       "    </tr>\n",
       "  </thead>\n",
       "  <tbody>\n",
       "    <tr>\n",
       "      <th>0</th>\n",
       "      <td>1</td>\n",
       "      <td>15634602</td>\n",
       "      <td>Hargrave</td>\n",
       "      <td>619</td>\n",
       "      <td>France</td>\n",
       "      <td>Female</td>\n",
       "      <td>42</td>\n",
       "      <td>2</td>\n",
       "      <td>0.00</td>\n",
       "      <td>1</td>\n",
       "      <td>1</td>\n",
       "      <td>1</td>\n",
       "      <td>101348.88</td>\n",
       "      <td>1</td>\n",
       "    </tr>\n",
       "    <tr>\n",
       "      <th>1</th>\n",
       "      <td>2</td>\n",
       "      <td>15647311</td>\n",
       "      <td>Hill</td>\n",
       "      <td>608</td>\n",
       "      <td>Spain</td>\n",
       "      <td>Female</td>\n",
       "      <td>41</td>\n",
       "      <td>1</td>\n",
       "      <td>83807.86</td>\n",
       "      <td>1</td>\n",
       "      <td>0</td>\n",
       "      <td>1</td>\n",
       "      <td>112542.58</td>\n",
       "      <td>0</td>\n",
       "    </tr>\n",
       "    <tr>\n",
       "      <th>2</th>\n",
       "      <td>3</td>\n",
       "      <td>15619304</td>\n",
       "      <td>Onio</td>\n",
       "      <td>502</td>\n",
       "      <td>France</td>\n",
       "      <td>Female</td>\n",
       "      <td>42</td>\n",
       "      <td>8</td>\n",
       "      <td>159660.80</td>\n",
       "      <td>3</td>\n",
       "      <td>1</td>\n",
       "      <td>0</td>\n",
       "      <td>113931.57</td>\n",
       "      <td>1</td>\n",
       "    </tr>\n",
       "    <tr>\n",
       "      <th>3</th>\n",
       "      <td>4</td>\n",
       "      <td>15701354</td>\n",
       "      <td>Boni</td>\n",
       "      <td>699</td>\n",
       "      <td>France</td>\n",
       "      <td>Female</td>\n",
       "      <td>39</td>\n",
       "      <td>1</td>\n",
       "      <td>0.00</td>\n",
       "      <td>2</td>\n",
       "      <td>0</td>\n",
       "      <td>0</td>\n",
       "      <td>93826.63</td>\n",
       "      <td>0</td>\n",
       "    </tr>\n",
       "    <tr>\n",
       "      <th>4</th>\n",
       "      <td>5</td>\n",
       "      <td>15737888</td>\n",
       "      <td>Mitchell</td>\n",
       "      <td>850</td>\n",
       "      <td>Spain</td>\n",
       "      <td>Female</td>\n",
       "      <td>43</td>\n",
       "      <td>2</td>\n",
       "      <td>125510.82</td>\n",
       "      <td>1</td>\n",
       "      <td>1</td>\n",
       "      <td>1</td>\n",
       "      <td>79084.10</td>\n",
       "      <td>0</td>\n",
       "    </tr>\n",
       "  </tbody>\n",
       "</table>\n",
       "</div>"
      ],
      "text/plain": [
       "   RowNumber  CustomerId   Surname  CreditScore Geography  Gender  Age  \\\n",
       "0          1    15634602  Hargrave          619    France  Female   42   \n",
       "1          2    15647311      Hill          608     Spain  Female   41   \n",
       "2          3    15619304      Onio          502    France  Female   42   \n",
       "3          4    15701354      Boni          699    France  Female   39   \n",
       "4          5    15737888  Mitchell          850     Spain  Female   43   \n",
       "\n",
       "   Tenure    Balance  NumOfProducts  HasCrCard  IsActiveMember  \\\n",
       "0       2       0.00              1          1               1   \n",
       "1       1   83807.86              1          0               1   \n",
       "2       8  159660.80              3          1               0   \n",
       "3       1       0.00              2          0               0   \n",
       "4       2  125510.82              1          1               1   \n",
       "\n",
       "   EstimatedSalary  Exited  \n",
       "0        101348.88       1  \n",
       "1        112542.58       0  \n",
       "2        113931.57       1  \n",
       "3         93826.63       0  \n",
       "4         79084.10       0  "
      ]
     },
     "execution_count": 3,
     "metadata": {},
     "output_type": "execute_result"
    }
   ],
   "source": [
    "df.head()"
   ]
  },
  {
   "cell_type": "code",
   "execution_count": 4,
   "id": "327374af",
   "metadata": {
    "execution": {
     "iopub.execute_input": "2025-07-07T14:12:46.446806Z",
     "iopub.status.busy": "2025-07-07T14:12:46.445935Z",
     "iopub.status.idle": "2025-07-07T14:12:46.453468Z",
     "shell.execute_reply": "2025-07-07T14:12:46.452007Z"
    },
    "papermill": {
     "duration": 0.016276,
     "end_time": "2025-07-07T14:12:46.455368",
     "exception": false,
     "start_time": "2025-07-07T14:12:46.439092",
     "status": "completed"
    },
    "tags": []
   },
   "outputs": [
    {
     "data": {
      "text/plain": [
       "(10000, 14)"
      ]
     },
     "execution_count": 4,
     "metadata": {},
     "output_type": "execute_result"
    }
   ],
   "source": [
    "df.shape"
   ]
  },
  {
   "cell_type": "code",
   "execution_count": 5,
   "id": "9129cc8f",
   "metadata": {
    "execution": {
     "iopub.execute_input": "2025-07-07T14:12:46.468819Z",
     "iopub.status.busy": "2025-07-07T14:12:46.468009Z",
     "iopub.status.idle": "2025-07-07T14:12:46.499528Z",
     "shell.execute_reply": "2025-07-07T14:12:46.498649Z"
    },
    "papermill": {
     "duration": 0.03991,
     "end_time": "2025-07-07T14:12:46.501190",
     "exception": false,
     "start_time": "2025-07-07T14:12:46.461280",
     "status": "completed"
    },
    "tags": []
   },
   "outputs": [
    {
     "name": "stdout",
     "output_type": "stream",
     "text": [
      "<class 'pandas.core.frame.DataFrame'>\n",
      "RangeIndex: 10000 entries, 0 to 9999\n",
      "Data columns (total 14 columns):\n",
      " #   Column           Non-Null Count  Dtype  \n",
      "---  ------           --------------  -----  \n",
      " 0   RowNumber        10000 non-null  int64  \n",
      " 1   CustomerId       10000 non-null  int64  \n",
      " 2   Surname          10000 non-null  object \n",
      " 3   CreditScore      10000 non-null  int64  \n",
      " 4   Geography        10000 non-null  object \n",
      " 5   Gender           10000 non-null  object \n",
      " 6   Age              10000 non-null  int64  \n",
      " 7   Tenure           10000 non-null  int64  \n",
      " 8   Balance          10000 non-null  float64\n",
      " 9   NumOfProducts    10000 non-null  int64  \n",
      " 10  HasCrCard        10000 non-null  int64  \n",
      " 11  IsActiveMember   10000 non-null  int64  \n",
      " 12  EstimatedSalary  10000 non-null  float64\n",
      " 13  Exited           10000 non-null  int64  \n",
      "dtypes: float64(2), int64(9), object(3)\n",
      "memory usage: 1.1+ MB\n"
     ]
    }
   ],
   "source": [
    "df.info()"
   ]
  },
  {
   "cell_type": "code",
   "execution_count": 6,
   "id": "a801b528",
   "metadata": {
    "execution": {
     "iopub.execute_input": "2025-07-07T14:12:46.513975Z",
     "iopub.status.busy": "2025-07-07T14:12:46.513655Z",
     "iopub.status.idle": "2025-07-07T14:12:46.527717Z",
     "shell.execute_reply": "2025-07-07T14:12:46.526751Z"
    },
    "papermill": {
     "duration": 0.022524,
     "end_time": "2025-07-07T14:12:46.529600",
     "exception": false,
     "start_time": "2025-07-07T14:12:46.507076",
     "status": "completed"
    },
    "tags": []
   },
   "outputs": [
    {
     "data": {
      "text/plain": [
       "0"
      ]
     },
     "execution_count": 6,
     "metadata": {},
     "output_type": "execute_result"
    }
   ],
   "source": [
    "df.duplicated().sum()"
   ]
  },
  {
   "cell_type": "code",
   "execution_count": null,
   "id": "21d10b7c",
   "metadata": {
    "execution": {
     "iopub.execute_input": "2025-07-07T14:12:46.542444Z",
     "iopub.status.busy": "2025-07-07T14:12:46.542105Z",
     "iopub.status.idle": "2025-07-07T14:12:46.551492Z",
     "shell.execute_reply": "2025-07-07T14:12:46.550637Z"
    },
    "papermill": {
     "duration": 0.017609,
     "end_time": "2025-07-07T14:12:46.552997",
     "exception": false,
     "start_time": "2025-07-07T14:12:46.535388",
     "status": "completed"
    },
    "tags": []
   },
   "outputs": [
    {
     "data": {
      "text/plain": [
       "Exited\n",
       "0    7963\n",
       "1    2037\n",
       "Name: count, dtype: int64"
      ]
     },
     "execution_count": 7,
     "metadata": {},
     "output_type": "execute_result"
    }
   ],
   "source": [
    "df['Exited'].value_counts()"
   ]
  },
  {
   "cell_type": "code",
   "execution_count": 8,
   "id": "2958fffc",
   "metadata": {
    "execution": {
     "iopub.execute_input": "2025-07-07T14:12:46.570037Z",
     "iopub.status.busy": "2025-07-07T14:12:46.569632Z",
     "iopub.status.idle": "2025-07-07T14:12:46.581336Z",
     "shell.execute_reply": "2025-07-07T14:12:46.580185Z"
    },
    "papermill": {
     "duration": 0.023301,
     "end_time": "2025-07-07T14:12:46.583388",
     "exception": false,
     "start_time": "2025-07-07T14:12:46.560087",
     "status": "completed"
    },
    "tags": []
   },
   "outputs": [],
   "source": [
    "df.drop(columns = ['RowNumber','CustomerId','Surname'],axis=1,inplace=True)"
   ]
  },
  {
   "cell_type": "code",
   "execution_count": 9,
   "id": "0fddf930",
   "metadata": {
    "execution": {
     "iopub.execute_input": "2025-07-07T14:12:46.601952Z",
     "iopub.status.busy": "2025-07-07T14:12:46.601461Z",
     "iopub.status.idle": "2025-07-07T14:12:46.617769Z",
     "shell.execute_reply": "2025-07-07T14:12:46.616417Z"
    },
    "papermill": {
     "duration": 0.027941,
     "end_time": "2025-07-07T14:12:46.619472",
     "exception": false,
     "start_time": "2025-07-07T14:12:46.591531",
     "status": "completed"
    },
    "tags": []
   },
   "outputs": [
    {
     "data": {
      "text/html": [
       "<div>\n",
       "<style scoped>\n",
       "    .dataframe tbody tr th:only-of-type {\n",
       "        vertical-align: middle;\n",
       "    }\n",
       "\n",
       "    .dataframe tbody tr th {\n",
       "        vertical-align: top;\n",
       "    }\n",
       "\n",
       "    .dataframe thead th {\n",
       "        text-align: right;\n",
       "    }\n",
       "</style>\n",
       "<table border=\"1\" class=\"dataframe\">\n",
       "  <thead>\n",
       "    <tr style=\"text-align: right;\">\n",
       "      <th></th>\n",
       "      <th>CreditScore</th>\n",
       "      <th>Geography</th>\n",
       "      <th>Gender</th>\n",
       "      <th>Age</th>\n",
       "      <th>Tenure</th>\n",
       "      <th>Balance</th>\n",
       "      <th>NumOfProducts</th>\n",
       "      <th>HasCrCard</th>\n",
       "      <th>IsActiveMember</th>\n",
       "      <th>EstimatedSalary</th>\n",
       "      <th>Exited</th>\n",
       "    </tr>\n",
       "  </thead>\n",
       "  <tbody>\n",
       "    <tr>\n",
       "      <th>0</th>\n",
       "      <td>619</td>\n",
       "      <td>France</td>\n",
       "      <td>Female</td>\n",
       "      <td>42</td>\n",
       "      <td>2</td>\n",
       "      <td>0.00</td>\n",
       "      <td>1</td>\n",
       "      <td>1</td>\n",
       "      <td>1</td>\n",
       "      <td>101348.88</td>\n",
       "      <td>1</td>\n",
       "    </tr>\n",
       "    <tr>\n",
       "      <th>1</th>\n",
       "      <td>608</td>\n",
       "      <td>Spain</td>\n",
       "      <td>Female</td>\n",
       "      <td>41</td>\n",
       "      <td>1</td>\n",
       "      <td>83807.86</td>\n",
       "      <td>1</td>\n",
       "      <td>0</td>\n",
       "      <td>1</td>\n",
       "      <td>112542.58</td>\n",
       "      <td>0</td>\n",
       "    </tr>\n",
       "    <tr>\n",
       "      <th>2</th>\n",
       "      <td>502</td>\n",
       "      <td>France</td>\n",
       "      <td>Female</td>\n",
       "      <td>42</td>\n",
       "      <td>8</td>\n",
       "      <td>159660.80</td>\n",
       "      <td>3</td>\n",
       "      <td>1</td>\n",
       "      <td>0</td>\n",
       "      <td>113931.57</td>\n",
       "      <td>1</td>\n",
       "    </tr>\n",
       "  </tbody>\n",
       "</table>\n",
       "</div>"
      ],
      "text/plain": [
       "   CreditScore Geography  Gender  Age  Tenure    Balance  NumOfProducts  \\\n",
       "0          619    France  Female   42       2       0.00              1   \n",
       "1          608     Spain  Female   41       1   83807.86              1   \n",
       "2          502    France  Female   42       8  159660.80              3   \n",
       "\n",
       "   HasCrCard  IsActiveMember  EstimatedSalary  Exited  \n",
       "0          1               1        101348.88       1  \n",
       "1          0               1        112542.58       0  \n",
       "2          1               0        113931.57       1  "
      ]
     },
     "execution_count": 9,
     "metadata": {},
     "output_type": "execute_result"
    }
   ],
   "source": [
    "df.head(3)"
   ]
  },
  {
   "cell_type": "code",
   "execution_count": 10,
   "id": "1cf70cfe",
   "metadata": {
    "execution": {
     "iopub.execute_input": "2025-07-07T14:12:46.632544Z",
     "iopub.status.busy": "2025-07-07T14:12:46.632294Z",
     "iopub.status.idle": "2025-07-07T14:12:46.643538Z",
     "shell.execute_reply": "2025-07-07T14:12:46.642641Z"
    },
    "papermill": {
     "duration": 0.01932,
     "end_time": "2025-07-07T14:12:46.645134",
     "exception": false,
     "start_time": "2025-07-07T14:12:46.625814",
     "status": "completed"
    },
    "tags": []
   },
   "outputs": [],
   "source": [
    "df = pd.get_dummies(df,columns=['Geography','Gender'],drop_first = True)"
   ]
  },
  {
   "cell_type": "code",
   "execution_count": 11,
   "id": "2a1b61bd",
   "metadata": {
    "execution": {
     "iopub.execute_input": "2025-07-07T14:12:46.658079Z",
     "iopub.status.busy": "2025-07-07T14:12:46.657778Z",
     "iopub.status.idle": "2025-07-07T14:12:46.669288Z",
     "shell.execute_reply": "2025-07-07T14:12:46.668401Z"
    },
    "papermill": {
     "duration": 0.019556,
     "end_time": "2025-07-07T14:12:46.670772",
     "exception": false,
     "start_time": "2025-07-07T14:12:46.651216",
     "status": "completed"
    },
    "tags": []
   },
   "outputs": [
    {
     "name": "stdout",
     "output_type": "stream",
     "text": [
      "<class 'pandas.core.frame.DataFrame'>\n",
      "RangeIndex: 10000 entries, 0 to 9999\n",
      "Data columns (total 12 columns):\n",
      " #   Column             Non-Null Count  Dtype  \n",
      "---  ------             --------------  -----  \n",
      " 0   CreditScore        10000 non-null  int64  \n",
      " 1   Age                10000 non-null  int64  \n",
      " 2   Tenure             10000 non-null  int64  \n",
      " 3   Balance            10000 non-null  float64\n",
      " 4   NumOfProducts      10000 non-null  int64  \n",
      " 5   HasCrCard          10000 non-null  int64  \n",
      " 6   IsActiveMember     10000 non-null  int64  \n",
      " 7   EstimatedSalary    10000 non-null  float64\n",
      " 8   Exited             10000 non-null  int64  \n",
      " 9   Geography_Germany  10000 non-null  bool   \n",
      " 10  Geography_Spain    10000 non-null  bool   \n",
      " 11  Gender_Male        10000 non-null  bool   \n",
      "dtypes: bool(3), float64(2), int64(7)\n",
      "memory usage: 732.6 KB\n"
     ]
    }
   ],
   "source": [
    "df.info()"
   ]
  },
  {
   "cell_type": "code",
   "execution_count": 12,
   "id": "d6c66b21",
   "metadata": {
    "execution": {
     "iopub.execute_input": "2025-07-07T14:12:46.683734Z",
     "iopub.status.busy": "2025-07-07T14:12:46.683446Z",
     "iopub.status.idle": "2025-07-07T14:12:46.689817Z",
     "shell.execute_reply": "2025-07-07T14:12:46.688866Z"
    },
    "papermill": {
     "duration": 0.014338,
     "end_time": "2025-07-07T14:12:46.691231",
     "exception": false,
     "start_time": "2025-07-07T14:12:46.676893",
     "status": "completed"
    },
    "tags": []
   },
   "outputs": [],
   "source": [
    "df['Geography_Germany'] = df['Geography_Germany'].astype(int)\n",
    "df['Geography_Spain'] = df['Geography_Spain'].astype(int)\n",
    "df['Gender_Male'] = df['Gender_Male'].astype(int)"
   ]
  },
  {
   "cell_type": "code",
   "execution_count": 13,
   "id": "d2d8cea5",
   "metadata": {
    "execution": {
     "iopub.execute_input": "2025-07-07T14:12:46.703871Z",
     "iopub.status.busy": "2025-07-07T14:12:46.703559Z",
     "iopub.status.idle": "2025-07-07T14:12:46.716473Z",
     "shell.execute_reply": "2025-07-07T14:12:46.715542Z"
    },
    "papermill": {
     "duration": 0.021236,
     "end_time": "2025-07-07T14:12:46.718291",
     "exception": false,
     "start_time": "2025-07-07T14:12:46.697055",
     "status": "completed"
    },
    "tags": []
   },
   "outputs": [
    {
     "data": {
      "text/html": [
       "<div>\n",
       "<style scoped>\n",
       "    .dataframe tbody tr th:only-of-type {\n",
       "        vertical-align: middle;\n",
       "    }\n",
       "\n",
       "    .dataframe tbody tr th {\n",
       "        vertical-align: top;\n",
       "    }\n",
       "\n",
       "    .dataframe thead th {\n",
       "        text-align: right;\n",
       "    }\n",
       "</style>\n",
       "<table border=\"1\" class=\"dataframe\">\n",
       "  <thead>\n",
       "    <tr style=\"text-align: right;\">\n",
       "      <th></th>\n",
       "      <th>CreditScore</th>\n",
       "      <th>Age</th>\n",
       "      <th>Tenure</th>\n",
       "      <th>Balance</th>\n",
       "      <th>NumOfProducts</th>\n",
       "      <th>HasCrCard</th>\n",
       "      <th>IsActiveMember</th>\n",
       "      <th>EstimatedSalary</th>\n",
       "      <th>Exited</th>\n",
       "      <th>Geography_Germany</th>\n",
       "      <th>Geography_Spain</th>\n",
       "      <th>Gender_Male</th>\n",
       "    </tr>\n",
       "  </thead>\n",
       "  <tbody>\n",
       "    <tr>\n",
       "      <th>0</th>\n",
       "      <td>619</td>\n",
       "      <td>42</td>\n",
       "      <td>2</td>\n",
       "      <td>0.00</td>\n",
       "      <td>1</td>\n",
       "      <td>1</td>\n",
       "      <td>1</td>\n",
       "      <td>101348.88</td>\n",
       "      <td>1</td>\n",
       "      <td>0</td>\n",
       "      <td>0</td>\n",
       "      <td>0</td>\n",
       "    </tr>\n",
       "    <tr>\n",
       "      <th>1</th>\n",
       "      <td>608</td>\n",
       "      <td>41</td>\n",
       "      <td>1</td>\n",
       "      <td>83807.86</td>\n",
       "      <td>1</td>\n",
       "      <td>0</td>\n",
       "      <td>1</td>\n",
       "      <td>112542.58</td>\n",
       "      <td>0</td>\n",
       "      <td>0</td>\n",
       "      <td>1</td>\n",
       "      <td>0</td>\n",
       "    </tr>\n",
       "    <tr>\n",
       "      <th>2</th>\n",
       "      <td>502</td>\n",
       "      <td>42</td>\n",
       "      <td>8</td>\n",
       "      <td>159660.80</td>\n",
       "      <td>3</td>\n",
       "      <td>1</td>\n",
       "      <td>0</td>\n",
       "      <td>113931.57</td>\n",
       "      <td>1</td>\n",
       "      <td>0</td>\n",
       "      <td>0</td>\n",
       "      <td>0</td>\n",
       "    </tr>\n",
       "    <tr>\n",
       "      <th>3</th>\n",
       "      <td>699</td>\n",
       "      <td>39</td>\n",
       "      <td>1</td>\n",
       "      <td>0.00</td>\n",
       "      <td>2</td>\n",
       "      <td>0</td>\n",
       "      <td>0</td>\n",
       "      <td>93826.63</td>\n",
       "      <td>0</td>\n",
       "      <td>0</td>\n",
       "      <td>0</td>\n",
       "      <td>0</td>\n",
       "    </tr>\n",
       "    <tr>\n",
       "      <th>4</th>\n",
       "      <td>850</td>\n",
       "      <td>43</td>\n",
       "      <td>2</td>\n",
       "      <td>125510.82</td>\n",
       "      <td>1</td>\n",
       "      <td>1</td>\n",
       "      <td>1</td>\n",
       "      <td>79084.10</td>\n",
       "      <td>0</td>\n",
       "      <td>0</td>\n",
       "      <td>1</td>\n",
       "      <td>0</td>\n",
       "    </tr>\n",
       "  </tbody>\n",
       "</table>\n",
       "</div>"
      ],
      "text/plain": [
       "   CreditScore  Age  Tenure    Balance  NumOfProducts  HasCrCard  \\\n",
       "0          619   42       2       0.00              1          1   \n",
       "1          608   41       1   83807.86              1          0   \n",
       "2          502   42       8  159660.80              3          1   \n",
       "3          699   39       1       0.00              2          0   \n",
       "4          850   43       2  125510.82              1          1   \n",
       "\n",
       "   IsActiveMember  EstimatedSalary  Exited  Geography_Germany  \\\n",
       "0               1        101348.88       1                  0   \n",
       "1               1        112542.58       0                  0   \n",
       "2               0        113931.57       1                  0   \n",
       "3               0         93826.63       0                  0   \n",
       "4               1         79084.10       0                  0   \n",
       "\n",
       "   Geography_Spain  Gender_Male  \n",
       "0                0            0  \n",
       "1                1            0  \n",
       "2                0            0  \n",
       "3                0            0  \n",
       "4                1            0  "
      ]
     },
     "execution_count": 13,
     "metadata": {},
     "output_type": "execute_result"
    }
   ],
   "source": [
    "df.head()"
   ]
  },
  {
   "cell_type": "code",
   "execution_count": 14,
   "id": "1f7e223d",
   "metadata": {
    "execution": {
     "iopub.execute_input": "2025-07-07T14:12:46.734852Z",
     "iopub.status.busy": "2025-07-07T14:12:46.733289Z",
     "iopub.status.idle": "2025-07-07T14:12:48.575806Z",
     "shell.execute_reply": "2025-07-07T14:12:48.574917Z"
    },
    "papermill": {
     "duration": 1.851542,
     "end_time": "2025-07-07T14:12:48.577715",
     "exception": false,
     "start_time": "2025-07-07T14:12:46.726173",
     "status": "completed"
    },
    "tags": []
   },
   "outputs": [],
   "source": [
    "from sklearn.model_selection import train_test_split"
   ]
  },
  {
   "cell_type": "code",
   "execution_count": 15,
   "id": "b64f8ae9",
   "metadata": {
    "execution": {
     "iopub.execute_input": "2025-07-07T14:12:48.592811Z",
     "iopub.status.busy": "2025-07-07T14:12:48.591796Z",
     "iopub.status.idle": "2025-07-07T14:12:48.598416Z",
     "shell.execute_reply": "2025-07-07T14:12:48.597544Z"
    },
    "papermill": {
     "duration": 0.015732,
     "end_time": "2025-07-07T14:12:48.600075",
     "exception": false,
     "start_time": "2025-07-07T14:12:48.584343",
     "status": "completed"
    },
    "tags": []
   },
   "outputs": [],
   "source": [
    "X = df.drop(columns='Exited',axis=1)\n",
    "y = df['Exited']"
   ]
  },
  {
   "cell_type": "code",
   "execution_count": 16,
   "id": "31f014b9",
   "metadata": {
    "execution": {
     "iopub.execute_input": "2025-07-07T14:12:48.615490Z",
     "iopub.status.busy": "2025-07-07T14:12:48.615208Z",
     "iopub.status.idle": "2025-07-07T14:12:48.624432Z",
     "shell.execute_reply": "2025-07-07T14:12:48.623628Z"
    },
    "papermill": {
     "duration": 0.018286,
     "end_time": "2025-07-07T14:12:48.626270",
     "exception": false,
     "start_time": "2025-07-07T14:12:48.607984",
     "status": "completed"
    },
    "tags": []
   },
   "outputs": [],
   "source": [
    "X_train,X_test,y_train,y_test= train_test_split(X,y,test_size=0.2,random_state=42)"
   ]
  },
  {
   "cell_type": "code",
   "execution_count": 17,
   "id": "b9edcfcf",
   "metadata": {
    "execution": {
     "iopub.execute_input": "2025-07-07T14:12:48.640729Z",
     "iopub.status.busy": "2025-07-07T14:12:48.640331Z",
     "iopub.status.idle": "2025-07-07T14:12:48.645368Z",
     "shell.execute_reply": "2025-07-07T14:12:48.644106Z"
    },
    "papermill": {
     "duration": 0.014172,
     "end_time": "2025-07-07T14:12:48.647274",
     "exception": false,
     "start_time": "2025-07-07T14:12:48.633102",
     "status": "completed"
    },
    "tags": []
   },
   "outputs": [],
   "source": [
    "from sklearn.preprocessing import StandardScaler\n",
    "scale = StandardScaler()"
   ]
  },
  {
   "cell_type": "code",
   "execution_count": 18,
   "id": "1c035baa",
   "metadata": {
    "execution": {
     "iopub.execute_input": "2025-07-07T14:12:48.660768Z",
     "iopub.status.busy": "2025-07-07T14:12:48.660394Z",
     "iopub.status.idle": "2025-07-07T14:12:48.690570Z",
     "shell.execute_reply": "2025-07-07T14:12:48.689409Z"
    },
    "papermill": {
     "duration": 0.039135,
     "end_time": "2025-07-07T14:12:48.692395",
     "exception": false,
     "start_time": "2025-07-07T14:12:48.653260",
     "status": "completed"
    },
    "tags": []
   },
   "outputs": [],
   "source": [
    "X_train_scaled = scale.fit_transform(X_train)\n",
    "X_test_scaled = scale.transform(X_test)"
   ]
  },
  {
   "cell_type": "code",
   "execution_count": 19,
   "id": "abe03b7d",
   "metadata": {
    "execution": {
     "iopub.execute_input": "2025-07-07T14:12:48.705530Z",
     "iopub.status.busy": "2025-07-07T14:12:48.705233Z",
     "iopub.status.idle": "2025-07-07T14:12:48.712768Z",
     "shell.execute_reply": "2025-07-07T14:12:48.711785Z"
    },
    "papermill": {
     "duration": 0.015952,
     "end_time": "2025-07-07T14:12:48.714310",
     "exception": false,
     "start_time": "2025-07-07T14:12:48.698358",
     "status": "completed"
    },
    "tags": []
   },
   "outputs": [
    {
     "data": {
      "text/plain": [
       "array([[ 0.35649971, -0.6557859 ,  0.34567966, ..., -0.57946723,\n",
       "        -0.57638802,  0.91324755],\n",
       "       [-0.20389777,  0.29493847, -0.3483691 , ...,  1.72572313,\n",
       "        -0.57638802,  0.91324755],\n",
       "       [-0.96147213, -1.41636539, -0.69539349, ..., -0.57946723,\n",
       "         1.73494238,  0.91324755],\n",
       "       ...,\n",
       "       [ 0.86500853, -0.08535128, -1.38944225, ..., -0.57946723,\n",
       "        -0.57638802, -1.09499335],\n",
       "       [ 0.15932282,  0.3900109 ,  1.03972843, ..., -0.57946723,\n",
       "        -0.57638802,  0.91324755],\n",
       "       [ 0.47065475,  1.15059039, -1.38944225, ...,  1.72572313,\n",
       "        -0.57638802,  0.91324755]])"
      ]
     },
     "execution_count": 19,
     "metadata": {},
     "output_type": "execute_result"
    }
   ],
   "source": [
    "X_train_scaled"
   ]
  },
  {
   "cell_type": "code",
   "execution_count": 20,
   "id": "21664804",
   "metadata": {
    "execution": {
     "iopub.execute_input": "2025-07-07T14:12:48.728329Z",
     "iopub.status.busy": "2025-07-07T14:12:48.728048Z",
     "iopub.status.idle": "2025-07-07T14:13:07.078897Z",
     "shell.execute_reply": "2025-07-07T14:13:07.077667Z"
    },
    "papermill": {
     "duration": 18.360056,
     "end_time": "2025-07-07T14:13:07.080962",
     "exception": false,
     "start_time": "2025-07-07T14:12:48.720906",
     "status": "completed"
    },
    "tags": []
   },
   "outputs": [
    {
     "name": "stderr",
     "output_type": "stream",
     "text": [
      "2025-07-07 14:12:50.821087: E external/local_xla/xla/stream_executor/cuda/cuda_fft.cc:477] Unable to register cuFFT factory: Attempting to register factory for plugin cuFFT when one has already been registered\n",
      "WARNING: All log messages before absl::InitializeLog() is called are written to STDERR\n",
      "E0000 00:00:1751897571.123690      13 cuda_dnn.cc:8310] Unable to register cuDNN factory: Attempting to register factory for plugin cuDNN when one has already been registered\n",
      "E0000 00:00:1751897571.210296      13 cuda_blas.cc:1418] Unable to register cuBLAS factory: Attempting to register factory for plugin cuBLAS when one has already been registered\n"
     ]
    }
   ],
   "source": [
    "import tensorflow\n",
    "from tensorflow import keras\n",
    "from tensorflow.keras import Sequential\n",
    "from tensorflow.keras.layers import Dense"
   ]
  },
  {
   "cell_type": "code",
   "execution_count": 21,
   "id": "adb9e8d0",
   "metadata": {
    "execution": {
     "iopub.execute_input": "2025-07-07T14:13:07.095840Z",
     "iopub.status.busy": "2025-07-07T14:13:07.095091Z",
     "iopub.status.idle": "2025-07-07T14:13:07.186886Z",
     "shell.execute_reply": "2025-07-07T14:13:07.185791Z"
    },
    "papermill": {
     "duration": 0.101115,
     "end_time": "2025-07-07T14:13:07.188681",
     "exception": false,
     "start_time": "2025-07-07T14:13:07.087566",
     "status": "completed"
    },
    "tags": []
   },
   "outputs": [
    {
     "name": "stderr",
     "output_type": "stream",
     "text": [
      "/usr/local/lib/python3.11/dist-packages/keras/src/layers/core/dense.py:87: UserWarning: Do not pass an `input_shape`/`input_dim` argument to a layer. When using Sequential models, prefer using an `Input(shape)` object as the first layer in the model instead.\n",
      "  super().__init__(activity_regularizer=activity_regularizer, **kwargs)\n",
      "2025-07-07 14:13:07.109222: E external/local_xla/xla/stream_executor/cuda/cuda_driver.cc:152] failed call to cuInit: INTERNAL: CUDA error: Failed call to cuInit: UNKNOWN ERROR (303)\n"
     ]
    }
   ],
   "source": [
    "model = Sequential()\n",
    "\n",
    "model.add(Dense(3,activation='sigmoid',input_dim=11))\n",
    "model.add(Dense(1,activation='sigmoid'))"
   ]
  },
  {
   "cell_type": "code",
   "execution_count": null,
   "id": "2eb19a44",
   "metadata": {
    "execution": {
     "iopub.execute_input": "2025-07-07T14:13:07.203615Z",
     "iopub.status.busy": "2025-07-07T14:13:07.202671Z",
     "iopub.status.idle": "2025-07-07T14:13:07.221053Z",
     "shell.execute_reply": "2025-07-07T14:13:07.220026Z"
    },
    "papermill": {
     "duration": 0.027278,
     "end_time": "2025-07-07T14:13:07.222548",
     "exception": false,
     "start_time": "2025-07-07T14:13:07.195270",
     "status": "completed"
    },
    "tags": []
   },
   "outputs": [
    {
     "data": {
      "text/html": [
       "<pre style=\"white-space:pre;overflow-x:auto;line-height:normal;font-family:Menlo,'DejaVu Sans Mono',consolas,'Courier New',monospace\"><span style=\"font-weight: bold\">Model: \"sequential\"</span>\n",
       "</pre>\n"
      ],
      "text/plain": [
       "\u001b[1mModel: \"sequential\"\u001b[0m\n"
      ]
     },
     "metadata": {},
     "output_type": "display_data"
    },
    {
     "data": {
      "text/html": [
       "<pre style=\"white-space:pre;overflow-x:auto;line-height:normal;font-family:Menlo,'DejaVu Sans Mono',consolas,'Courier New',monospace\">┏━━━━━━━━━━━━━━━━━━━━━━━━━━━━━━━━━━━━━━┳━━━━━━━━━━━━━━━━━━━━━━━━━━━━━┳━━━━━━━━━━━━━━━━━┓\n",
       "┃<span style=\"font-weight: bold\"> Layer (type)                         </span>┃<span style=\"font-weight: bold\"> Output Shape                </span>┃<span style=\"font-weight: bold\">         Param # </span>┃\n",
       "┡━━━━━━━━━━━━━━━━━━━━━━━━━━━━━━━━━━━━━━╇━━━━━━━━━━━━━━━━━━━━━━━━━━━━━╇━━━━━━━━━━━━━━━━━┩\n",
       "│ dense (<span style=\"color: #0087ff; text-decoration-color: #0087ff\">Dense</span>)                        │ (<span style=\"color: #00d7ff; text-decoration-color: #00d7ff\">None</span>, <span style=\"color: #00af00; text-decoration-color: #00af00\">3</span>)                   │              <span style=\"color: #00af00; text-decoration-color: #00af00\">36</span> │\n",
       "├──────────────────────────────────────┼─────────────────────────────┼─────────────────┤\n",
       "│ dense_1 (<span style=\"color: #0087ff; text-decoration-color: #0087ff\">Dense</span>)                      │ (<span style=\"color: #00d7ff; text-decoration-color: #00d7ff\">None</span>, <span style=\"color: #00af00; text-decoration-color: #00af00\">1</span>)                   │               <span style=\"color: #00af00; text-decoration-color: #00af00\">4</span> │\n",
       "└──────────────────────────────────────┴─────────────────────────────┴─────────────────┘\n",
       "</pre>\n"
      ],
      "text/plain": [
       "┏━━━━━━━━━━━━━━━━━━━━━━━━━━━━━━━━━━━━━━┳━━━━━━━━━━━━━━━━━━━━━━━━━━━━━┳━━━━━━━━━━━━━━━━━┓\n",
       "┃\u001b[1m \u001b[0m\u001b[1mLayer (type)                        \u001b[0m\u001b[1m \u001b[0m┃\u001b[1m \u001b[0m\u001b[1mOutput Shape               \u001b[0m\u001b[1m \u001b[0m┃\u001b[1m \u001b[0m\u001b[1m        Param #\u001b[0m\u001b[1m \u001b[0m┃\n",
       "┡━━━━━━━━━━━━━━━━━━━━━━━━━━━━━━━━━━━━━━╇━━━━━━━━━━━━━━━━━━━━━━━━━━━━━╇━━━━━━━━━━━━━━━━━┩\n",
       "│ dense (\u001b[38;5;33mDense\u001b[0m)                        │ (\u001b[38;5;45mNone\u001b[0m, \u001b[38;5;34m3\u001b[0m)                   │              \u001b[38;5;34m36\u001b[0m │\n",
       "├──────────────────────────────────────┼─────────────────────────────┼─────────────────┤\n",
       "│ dense_1 (\u001b[38;5;33mDense\u001b[0m)                      │ (\u001b[38;5;45mNone\u001b[0m, \u001b[38;5;34m1\u001b[0m)                   │               \u001b[38;5;34m4\u001b[0m │\n",
       "└──────────────────────────────────────┴─────────────────────────────┴─────────────────┘\n"
      ]
     },
     "metadata": {},
     "output_type": "display_data"
    },
    {
     "data": {
      "text/html": [
       "<pre style=\"white-space:pre;overflow-x:auto;line-height:normal;font-family:Menlo,'DejaVu Sans Mono',consolas,'Courier New',monospace\"><span style=\"font-weight: bold\"> Total params: </span><span style=\"color: #00af00; text-decoration-color: #00af00\">40</span> (160.00 B)\n",
       "</pre>\n"
      ],
      "text/plain": [
       "\u001b[1m Total params: \u001b[0m\u001b[38;5;34m40\u001b[0m (160.00 B)\n"
      ]
     },
     "metadata": {},
     "output_type": "display_data"
    },
    {
     "data": {
      "text/html": [
       "<pre style=\"white-space:pre;overflow-x:auto;line-height:normal;font-family:Menlo,'DejaVu Sans Mono',consolas,'Courier New',monospace\"><span style=\"font-weight: bold\"> Trainable params: </span><span style=\"color: #00af00; text-decoration-color: #00af00\">40</span> (160.00 B)\n",
       "</pre>\n"
      ],
      "text/plain": [
       "\u001b[1m Trainable params: \u001b[0m\u001b[38;5;34m40\u001b[0m (160.00 B)\n"
      ]
     },
     "metadata": {},
     "output_type": "display_data"
    },
    {
     "data": {
      "text/html": [
       "<pre style=\"white-space:pre;overflow-x:auto;line-height:normal;font-family:Menlo,'DejaVu Sans Mono',consolas,'Courier New',monospace\"><span style=\"font-weight: bold\"> Non-trainable params: </span><span style=\"color: #00af00; text-decoration-color: #00af00\">0</span> (0.00 B)\n",
       "</pre>\n"
      ],
      "text/plain": [
       "\u001b[1m Non-trainable params: \u001b[0m\u001b[38;5;34m0\u001b[0m (0.00 B)\n"
      ]
     },
     "metadata": {},
     "output_type": "display_data"
    }
   ],
   "source": [
    "model.summary()"
   ]
  },
  {
   "cell_type": "code",
   "execution_count": 23,
   "id": "4da7fca8",
   "metadata": {
    "execution": {
     "iopub.execute_input": "2025-07-07T14:13:07.240266Z",
     "iopub.status.busy": "2025-07-07T14:13:07.239522Z",
     "iopub.status.idle": "2025-07-07T14:13:07.257854Z",
     "shell.execute_reply": "2025-07-07T14:13:07.256480Z"
    },
    "papermill": {
     "duration": 0.029889,
     "end_time": "2025-07-07T14:13:07.259861",
     "exception": false,
     "start_time": "2025-07-07T14:13:07.229972",
     "status": "completed"
    },
    "tags": []
   },
   "outputs": [],
   "source": [
    "model.compile(loss='binary_crossentropy',optimizer='Adam')"
   ]
  },
  {
   "cell_type": "code",
   "execution_count": 24,
   "id": "beb546a9",
   "metadata": {
    "execution": {
     "iopub.execute_input": "2025-07-07T14:13:07.276862Z",
     "iopub.status.busy": "2025-07-07T14:13:07.275615Z",
     "iopub.status.idle": "2025-07-07T14:13:13.422689Z",
     "shell.execute_reply": "2025-07-07T14:13:13.421706Z"
    },
    "papermill": {
     "duration": 6.157237,
     "end_time": "2025-07-07T14:13:13.424413",
     "exception": false,
     "start_time": "2025-07-07T14:13:07.267176",
     "status": "completed"
    },
    "tags": []
   },
   "outputs": [
    {
     "name": "stdout",
     "output_type": "stream",
     "text": [
      "Epoch 1/10\n",
      "\u001b[1m250/250\u001b[0m \u001b[32m━━━━━━━━━━━━━━━━━━━━\u001b[0m\u001b[37m\u001b[0m \u001b[1m2s\u001b[0m 3ms/step - loss: 0.5489\n",
      "Epoch 2/10\n",
      "\u001b[1m250/250\u001b[0m \u001b[32m━━━━━━━━━━━━━━━━━━━━\u001b[0m\u001b[37m\u001b[0m \u001b[1m0s\u001b[0m 2ms/step - loss: 0.4848\n",
      "Epoch 3/10\n",
      "\u001b[1m250/250\u001b[0m \u001b[32m━━━━━━━━━━━━━━━━━━━━\u001b[0m\u001b[37m\u001b[0m \u001b[1m0s\u001b[0m 2ms/step - loss: 0.4648\n",
      "Epoch 4/10\n",
      "\u001b[1m250/250\u001b[0m \u001b[32m━━━━━━━━━━━━━━━━━━━━\u001b[0m\u001b[37m\u001b[0m \u001b[1m0s\u001b[0m 2ms/step - loss: 0.4510\n",
      "Epoch 5/10\n",
      "\u001b[1m250/250\u001b[0m \u001b[32m━━━━━━━━━━━━━━━━━━━━\u001b[0m\u001b[37m\u001b[0m \u001b[1m0s\u001b[0m 2ms/step - loss: 0.4305\n",
      "Epoch 6/10\n",
      "\u001b[1m250/250\u001b[0m \u001b[32m━━━━━━━━━━━━━━━━━━━━\u001b[0m\u001b[37m\u001b[0m \u001b[1m1s\u001b[0m 2ms/step - loss: 0.4426\n",
      "Epoch 7/10\n",
      "\u001b[1m250/250\u001b[0m \u001b[32m━━━━━━━━━━━━━━━━━━━━\u001b[0m\u001b[37m\u001b[0m \u001b[1m0s\u001b[0m 2ms/step - loss: 0.4367\n",
      "Epoch 8/10\n",
      "\u001b[1m250/250\u001b[0m \u001b[32m━━━━━━━━━━━━━━━━━━━━\u001b[0m\u001b[37m\u001b[0m \u001b[1m0s\u001b[0m 2ms/step - loss: 0.4247\n",
      "Epoch 9/10\n",
      "\u001b[1m250/250\u001b[0m \u001b[32m━━━━━━━━━━━━━━━━━━━━\u001b[0m\u001b[37m\u001b[0m \u001b[1m0s\u001b[0m 2ms/step - loss: 0.4324\n",
      "Epoch 10/10\n",
      "\u001b[1m250/250\u001b[0m \u001b[32m━━━━━━━━━━━━━━━━━━━━\u001b[0m\u001b[37m\u001b[0m \u001b[1m0s\u001b[0m 2ms/step - loss: 0.4328\n"
     ]
    },
    {
     "data": {
      "text/plain": [
       "<keras.src.callbacks.history.History at 0x7c26c86afa50>"
      ]
     },
     "execution_count": 24,
     "metadata": {},
     "output_type": "execute_result"
    }
   ],
   "source": [
    "model.fit(X_train_scaled,y_train,epochs=10)"
   ]
  },
  {
   "cell_type": "code",
   "execution_count": 25,
   "id": "c64cae37",
   "metadata": {
    "execution": {
     "iopub.execute_input": "2025-07-07T14:13:13.450961Z",
     "iopub.status.busy": "2025-07-07T14:13:13.450540Z",
     "iopub.status.idle": "2025-07-07T14:13:13.462061Z",
     "shell.execute_reply": "2025-07-07T14:13:13.460879Z"
    },
    "papermill": {
     "duration": 0.026672,
     "end_time": "2025-07-07T14:13:13.463932",
     "exception": false,
     "start_time": "2025-07-07T14:13:13.437260",
     "status": "completed"
    },
    "tags": []
   },
   "outputs": [
    {
     "data": {
      "text/plain": [
       "[array([[-0.31489184, -0.00395858,  0.13399759],\n",
       "        [ 0.37103224, -2.119174  , -0.9030633 ],\n",
       "        [ 0.13482589, -0.01589916,  0.17418668],\n",
       "        [ 1.0002751 , -0.02525172, -0.27669397],\n",
       "        [ 0.64097863, -0.07047802,  0.4177548 ],\n",
       "        [ 0.06510464, -0.20214532,  0.2066381 ],\n",
       "        [-0.7649425 ,  0.3004696 ,  0.7969211 ],\n",
       "        [ 0.25947183,  0.02078268,  0.03063989],\n",
       "        [ 1.3915491 , -0.23944668, -0.3320348 ],\n",
       "        [-0.16023658,  0.22191441, -0.2769343 ],\n",
       "        [-0.02104277,  0.3162774 ,  0.5431894 ]], dtype=float32),\n",
       " array([-0.42698944,  0.35559183,  0.35982576], dtype=float32)]"
      ]
     },
     "execution_count": 25,
     "metadata": {},
     "output_type": "execute_result"
    }
   ],
   "source": [
    "model.layers[0].get_weights()"
   ]
  },
  {
   "cell_type": "code",
   "execution_count": 26,
   "id": "5f6af209",
   "metadata": {
    "execution": {
     "iopub.execute_input": "2025-07-07T14:13:13.492225Z",
     "iopub.status.busy": "2025-07-07T14:13:13.491159Z",
     "iopub.status.idle": "2025-07-07T14:13:13.796415Z",
     "shell.execute_reply": "2025-07-07T14:13:13.795411Z"
    },
    "papermill": {
     "duration": 0.320865,
     "end_time": "2025-07-07T14:13:13.798308",
     "exception": false,
     "start_time": "2025-07-07T14:13:13.477443",
     "status": "completed"
    },
    "tags": []
   },
   "outputs": [
    {
     "name": "stdout",
     "output_type": "stream",
     "text": [
      "\u001b[1m63/63\u001b[0m \u001b[32m━━━━━━━━━━━━━━━━━━━━\u001b[0m\u001b[37m\u001b[0m \u001b[1m0s\u001b[0m 2ms/step\n"
     ]
    }
   ],
   "source": [
    "y_log = model.predict(X_test_scaled)"
   ]
  },
  {
   "cell_type": "code",
   "execution_count": 27,
   "id": "1379950d",
   "metadata": {
    "execution": {
     "iopub.execute_input": "2025-07-07T14:13:13.824918Z",
     "iopub.status.busy": "2025-07-07T14:13:13.823994Z",
     "iopub.status.idle": "2025-07-07T14:13:13.828757Z",
     "shell.execute_reply": "2025-07-07T14:13:13.827889Z"
    },
    "papermill": {
     "duration": 0.01945,
     "end_time": "2025-07-07T14:13:13.830343",
     "exception": false,
     "start_time": "2025-07-07T14:13:13.810893",
     "status": "completed"
    },
    "tags": []
   },
   "outputs": [],
   "source": [
    "y_pred = np.where(y_log>0.5,1,0)"
   ]
  },
  {
   "cell_type": "code",
   "execution_count": 28,
   "id": "7237e239",
   "metadata": {
    "execution": {
     "iopub.execute_input": "2025-07-07T14:13:13.857869Z",
     "iopub.status.busy": "2025-07-07T14:13:13.857459Z",
     "iopub.status.idle": "2025-07-07T14:13:13.862314Z",
     "shell.execute_reply": "2025-07-07T14:13:13.861438Z"
    },
    "papermill": {
     "duration": 0.020404,
     "end_time": "2025-07-07T14:13:13.863893",
     "exception": false,
     "start_time": "2025-07-07T14:13:13.843489",
     "status": "completed"
    },
    "tags": []
   },
   "outputs": [],
   "source": [
    "from sklearn.metrics import accuracy_score"
   ]
  },
  {
   "cell_type": "code",
   "execution_count": 29,
   "id": "78aca802",
   "metadata": {
    "execution": {
     "iopub.execute_input": "2025-07-07T14:13:13.891521Z",
     "iopub.status.busy": "2025-07-07T14:13:13.890638Z",
     "iopub.status.idle": "2025-07-07T14:13:13.898044Z",
     "shell.execute_reply": "2025-07-07T14:13:13.897162Z"
    },
    "papermill": {
     "duration": 0.023206,
     "end_time": "2025-07-07T14:13:13.899832",
     "exception": false,
     "start_time": "2025-07-07T14:13:13.876626",
     "status": "completed"
    },
    "tags": []
   },
   "outputs": [],
   "source": [
    "score = accuracy_score(y_test,y_pred)"
   ]
  },
  {
   "cell_type": "code",
   "execution_count": 30,
   "id": "e94d8a73",
   "metadata": {
    "execution": {
     "iopub.execute_input": "2025-07-07T14:13:13.927941Z",
     "iopub.status.busy": "2025-07-07T14:13:13.926604Z",
     "iopub.status.idle": "2025-07-07T14:13:13.933257Z",
     "shell.execute_reply": "2025-07-07T14:13:13.932320Z"
    },
    "papermill": {
     "duration": 0.021809,
     "end_time": "2025-07-07T14:13:13.934843",
     "exception": false,
     "start_time": "2025-07-07T14:13:13.913034",
     "status": "completed"
    },
    "tags": []
   },
   "outputs": [
    {
     "data": {
      "text/plain": [
       "0.818"
      ]
     },
     "execution_count": 30,
     "metadata": {},
     "output_type": "execute_result"
    }
   ],
   "source": [
    "score"
   ]
  },
  {
   "cell_type": "markdown",
   "id": "f9157d87",
   "metadata": {
    "papermill": {
     "duration": 0.012212,
     "end_time": "2025-07-07T14:13:13.959765",
     "exception": false,
     "start_time": "2025-07-07T14:13:13.947553",
     "status": "completed"
    },
    "tags": []
   },
   "source": [
    "> **To increase the model's score, you can try different activation functions, add more layers, increase the number of nodes in each layer, and also increase the number of epochs.**"
   ]
  },
  {
   "cell_type": "code",
   "execution_count": null,
   "id": "974d9e85",
   "metadata": {
    "papermill": {
     "duration": 0.012434,
     "end_time": "2025-07-07T14:13:14.081927",
     "exception": false,
     "start_time": "2025-07-07T14:13:14.069493",
     "status": "completed"
    },
    "tags": []
   },
   "outputs": [],
   "source": []
  }
 ],
 "metadata": {
  "kaggle": {
   "accelerator": "none",
   "dataSources": [
    {
     "datasetId": 869651,
     "sourceId": 1481789,
     "sourceType": "datasetVersion"
    }
   ],
   "dockerImageVersionId": 31040,
   "isGpuEnabled": false,
   "isInternetEnabled": true,
   "language": "python",
   "sourceType": "notebook"
  },
  "kernelspec": {
   "display_name": "Python 3",
   "language": "python",
   "name": "python3"
  },
  "language_info": {
   "codemirror_mode": {
    "name": "ipython",
    "version": 3
   },
   "file_extension": ".py",
   "mimetype": "text/x-python",
   "name": "python",
   "nbconvert_exporter": "python",
   "pygments_lexer": "ipython3",
   "version": "3.11.11"
  },
  "papermill": {
   "default_parameters": {},
   "duration": 38.202108,
   "end_time": "2025-07-07T14:13:17.479513",
   "environment_variables": {},
   "exception": null,
   "input_path": "__notebook__.ipynb",
   "output_path": "__notebook__.ipynb",
   "parameters": {},
   "start_time": "2025-07-07T14:12:39.277405",
   "version": "2.6.0"
  }
 },
 "nbformat": 4,
 "nbformat_minor": 5
}
