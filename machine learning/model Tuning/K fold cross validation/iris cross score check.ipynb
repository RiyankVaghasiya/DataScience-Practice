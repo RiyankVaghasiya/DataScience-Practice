{
 "cells": [
  {
   "cell_type": "markdown",
   "id": "49fac5a8-00fe-4446-a460-4573a2f52210",
   "metadata": {},
   "source": [
    "__Use iris flower dataset from sklearn library and use cross_val_score against following models to measure the performance of each. In the end figure out the model with best performance,__\n",
    "\n",
    "-Logistic Regression\n",
    "-SVM\n",
    "-Decision Tree\n",
    "-Random Forest "
   ]
  },
  {
   "cell_type": "code",
   "execution_count": 22,
   "id": "ce420286-478c-43b9-908c-9656f16c1940",
   "metadata": {},
   "outputs": [],
   "source": [
    "import pandas as pd\n",
    "import numpy as np\n",
    "from sklearn.linear_model import LogisticRegression\n",
    "from sklearn.ensemble import RandomForestClassifier\n",
    "from sklearn.svm import SVC\n",
    "from sklearn.tree import DecisionTreeClassifier\n",
    "from sklearn.datasets import load_iris\n",
    "from sklearn.model_selection import StratifiedKFold\n",
    "from sklearn.model_selection import cross_val_score\n",
    "import warnings\n",
    "from sklearn.exceptions import ConvergenceWarning"
   ]
  },
  {
   "cell_type": "code",
   "execution_count": 17,
   "id": "40e4ff09-6227-4acd-b3ba-7a5d02a16948",
   "metadata": {},
   "outputs": [],
   "source": [
    "iris = load_iris()"
   ]
  },
  {
   "cell_type": "code",
   "execution_count": 18,
   "id": "ba819fa9-b2b0-4c7a-bad5-e9b211bedd20",
   "metadata": {},
   "outputs": [],
   "source": [
    "def get_score(model,x_train,x_test,y_train,y_test):\n",
    "    model.fit(x_train,y_train)\n",
    "    return model.score(x_test,y_test)"
   ]
  },
  {
   "cell_type": "code",
   "execution_count": 19,
   "id": "797fc048-fbab-402c-83b3-7cb2802a1f9f",
   "metadata": {},
   "outputs": [],
   "source": [
    "X = iris.data\n",
    "Y = iris.target"
   ]
  },
  {
   "cell_type": "markdown",
   "id": "988fa566-b1e3-42e5-8de0-d3a8769376bf",
   "metadata": {},
   "source": [
    "# method 1"
   ]
  },
  {
   "cell_type": "code",
   "execution_count": 23,
   "id": "79cb3a1a-6ac7-43c8-8ada-28dbfd577625",
   "metadata": {},
   "outputs": [],
   "source": [
    "warnings.filterwarnings(\"ignore\", category=ConvergenceWarning)  # To ignore the warning\n",
    "kf = StratifiedKFold()\n",
    "Logistic_regression_score = []\n",
    "for train_index,test_index in kf.split(X,Y):\n",
    "    x_train,x_test = X[train_index],X[test_index]\n",
    "    y_train,y_test = Y[train_index],Y[test_index]\n",
    "\n",
    "    score = get_score(LogisticRegression(),x_train,x_test,y_train,y_test)\n",
    "    Logistic_regression_score.append(score)\n",
    "    "
   ]
  },
  {
   "cell_type": "code",
   "execution_count": 25,
   "id": "92f58081-bee5-4281-a8c0-816768a5a1e2",
   "metadata": {},
   "outputs": [
    {
     "data": {
      "text/plain": [
       "[0.9666666666666667, 1.0, 0.9333333333333333, 0.9666666666666667, 1.0]"
      ]
     },
     "execution_count": 25,
     "metadata": {},
     "output_type": "execute_result"
    }
   ],
   "source": [
    "Logistic_regression_score"
   ]
  },
  {
   "cell_type": "markdown",
   "id": "edad47a8-126c-4ff0-af73-58c4d23ef27d",
   "metadata": {},
   "source": [
    "# method 2"
   ]
  },
  {
   "cell_type": "code",
   "execution_count": 46,
   "id": "3ce1fc02-9854-4caa-877a-f38b36c430d7",
   "metadata": {},
   "outputs": [
    {
     "name": "stdout",
     "output_type": "stream",
     "text": [
      "[0.96666667 1.         0.93333333 0.96666667 1.        ]\n",
      "0.9733333333333334\n"
     ]
    }
   ],
   "source": [
    "logistic_score = cross_val_score(LogisticRegression(),X,Y)\n",
    "print(logistic_score)\n",
    "print(np.average(logistic_score))"
   ]
  },
  {
   "cell_type": "code",
   "execution_count": 47,
   "id": "f7d9924a-65d2-4aa9-95e2-8a98e0affe56",
   "metadata": {},
   "outputs": [
    {
     "name": "stdout",
     "output_type": "stream",
     "text": [
      "[0.96666667 1.         0.96666667 0.96666667 1.        ]\n",
      "0.9800000000000001\n"
     ]
    }
   ],
   "source": [
    "svm_score = cross_val_score(SVC(kernel='poly'),X,Y)\n",
    "print(svm_score)\n",
    "print(np.average(svm_score))"
   ]
  },
  {
   "cell_type": "code",
   "execution_count": 44,
   "id": "7b4fab28-cbfb-4644-9c3a-9649f6402317",
   "metadata": {},
   "outputs": [
    {
     "name": "stdout",
     "output_type": "stream",
     "text": [
      "[0.96666667 0.96666667 0.9        1.         1.        ]\n",
      "0.9666666666666668\n"
     ]
    }
   ],
   "source": [
    "decision_tree_score = cross_val_score(DecisionTreeClassifier(),X,Y)\n",
    "print(decision_tree_score)\n",
    "print(np.average(decision_tree_score))"
   ]
  },
  {
   "cell_type": "code",
   "execution_count": 38,
   "id": "fd653c57-fccd-4430-aa82-0123d8b910b9",
   "metadata": {},
   "outputs": [
    {
     "name": "stdout",
     "output_type": "stream",
     "text": [
      "[0.96666667 0.96666667 0.93333333 0.96666667 1.        ]\n",
      "0.9666666666666668\n"
     ]
    }
   ],
   "source": [
    "random_forest_score = cross_val_score(RandomForestClassifier(),X,Y)\n",
    "print(random_forest_score)\n",
    "print(np.average(random_forest_score))"
   ]
  },
  {
   "cell_type": "markdown",
   "id": "a7ba9281-a87a-4a85-8fc7-b35f5f410e7b",
   "metadata": {},
   "source": [
    "__svm gives best performance__"
   ]
  },
  {
   "cell_type": "code",
   "execution_count": null,
   "id": "90279f00-f531-47bc-8522-0bbe984339ed",
   "metadata": {},
   "outputs": [],
   "source": []
  }
 ],
 "metadata": {
  "kernelspec": {
   "display_name": "Python 3 (ipykernel)",
   "language": "python",
   "name": "python3"
  },
  "language_info": {
   "codemirror_mode": {
    "name": "ipython",
    "version": 3
   },
   "file_extension": ".py",
   "mimetype": "text/x-python",
   "name": "python",
   "nbconvert_exporter": "python",
   "pygments_lexer": "ipython3",
   "version": "3.11.7"
  }
 },
 "nbformat": 4,
 "nbformat_minor": 5
}
