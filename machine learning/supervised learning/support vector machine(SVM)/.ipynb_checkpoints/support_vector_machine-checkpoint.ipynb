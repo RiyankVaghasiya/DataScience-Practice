{
 "cells": [
  {
   "cell_type": "code",
   "execution_count": null,
   "id": "27babd30-8449-4224-83f7-4b9284d1bea7",
   "metadata": {},
   "outputs": [],
   "source": []
  }
 ],
 "metadata": {
  "kernelspec": {
   "display_name": "Python 3 (ipykernel)",
   "language": "python",
   "name": "python3"
  },
  "language_info": {
   "name": ""
  }
 },
 "nbformat": 4,
 "nbformat_minor": 5
}
